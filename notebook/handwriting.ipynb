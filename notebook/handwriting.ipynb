{
 "cells": [
  {
   "cell_type": "code",
   "execution_count": 1,
   "id": "9e9ffeb3",
   "metadata": {},
   "outputs": [
    {
     "name": "stdout",
     "output_type": "stream",
     "text": [
      "Collecting package metadata (current_repodata.json): done\n",
      "Solving environment: done\n",
      "\n",
      "\n",
      "==> WARNING: A newer version of conda exists. <==\n",
      "  current version: 4.12.0\n",
      "  latest version: 4.13.0\n",
      "\n",
      "Please update conda by running\n",
      "\n",
      "    $ conda update -n base -c defaults conda\n",
      "\n",
      "\n",
      "\n",
      "## Package Plan ##\n",
      "\n",
      "  environment location: /Users/vharikar/opt/anaconda3/envs/DataScience_Conda_Env\n",
      "\n",
      "  added / updated specs:\n",
      "    - seaborn\n",
      "\n",
      "\n",
      "The following packages will be downloaded:\n",
      "\n",
      "    package                    |            build\n",
      "    ---------------------------|-----------------\n",
      "    certifi-2022.6.15          |   py39hecd8cb5_0         154 KB\n",
      "    openssl-1.1.1q             |       hca72f7f_0         2.2 MB\n",
      "    ------------------------------------------------------------\n",
      "                                           Total:         2.4 MB\n",
      "\n",
      "The following packages will be UPDATED:\n",
      "\n",
      "  certifi                        2022.5.18.1-py39hecd8cb5_0 --> 2022.6.15-py39hecd8cb5_0\n",
      "  openssl                                 1.1.1o-hca72f7f_0 --> 1.1.1q-hca72f7f_0\n",
      "\n",
      "\n",
      "\n",
      "Downloading and Extracting Packages\n",
      "openssl-1.1.1q       | 2.2 MB    | ##################################### | 100% \n",
      "certifi-2022.6.15    | 154 KB    | ##################################### | 100% \n",
      "Preparing transaction: done\n",
      "Verifying transaction: done\n",
      "Executing transaction: done\n",
      "\n",
      "Note: you may need to restart the kernel to use updated packages.\n"
     ]
    }
   ],
   "source": [
    "conda install seaborn"
   ]
  },
  {
   "cell_type": "code",
   "execution_count": 2,
   "id": "c2a8f0c1",
   "metadata": {},
   "outputs": [
    {
     "name": "stdout",
     "output_type": "stream",
     "text": [
      "Collecting package metadata (current_repodata.json): done\n",
      "Solving environment: done\n",
      "\n",
      "\n",
      "==> WARNING: A newer version of conda exists. <==\n",
      "  current version: 4.12.0\n",
      "  latest version: 4.13.0\n",
      "\n",
      "Please update conda by running\n",
      "\n",
      "    $ conda update -n base -c defaults conda\n",
      "\n",
      "\n",
      "\n",
      "## Package Plan ##\n",
      "\n",
      "  environment location: /Users/vharikar/opt/anaconda3/envs/DataScience_Conda_Env\n",
      "\n",
      "  added / updated specs:\n",
      "    - scikit-image\n",
      "\n",
      "\n",
      "The following packages will be downloaded:\n",
      "\n",
      "    package                    |            build\n",
      "    ---------------------------|-----------------\n",
      "    brunsli-0.1                |       h046ec9c_0         179 KB  conda-forge\n",
      "    ca-certificates-2022.6.15  |       h033912b_0         149 KB  conda-forge\n",
      "    certifi-2022.6.15          |   py39h6e9494a_0         155 KB  conda-forge\n",
      "    cfitsio-3.470              |       h389770f_2         1.4 MB  conda-forge\n",
      "    charls-2.2.0               |       h23ab428_0          82 KB\n",
      "    cloudpickle-2.1.0          |     pyhd8ed1ab_0          25 KB  conda-forge\n",
      "    cytoolz-0.12.0             |   py39h701faf5_0         335 KB  conda-forge\n",
      "    dask-core-2022.7.0         |     pyhd8ed1ab_0         839 KB  conda-forge\n",
      "    fsspec-2022.5.0            |     pyhd8ed1ab_0          96 KB  conda-forge\n",
      "    imagecodecs-2021.8.26      |   py39ha952a84_0         5.9 MB\n",
      "    imageio-2.19.3             |     pyhcf75d05_0         3.2 MB  conda-forge\n",
      "    jxrlib-1.1                 |       h35c211d_2         226 KB  conda-forge\n",
      "    krb5-1.19.2                |       hcd88c3b_0         1.1 MB\n",
      "    libaec-1.0.6               |       he49afe7_0          38 KB  conda-forge\n",
      "    libcurl-7.82.0             |       h6dfd666_0         314 KB\n",
      "    libdeflate-1.8             |       h9ed2024_5          50 KB\n",
      "    libedit-3.1.20210910       |       hca72f7f_0         139 KB\n",
      "    libev-4.33                 |       haf1e3a3_1          99 KB  conda-forge\n",
      "    libnghttp2-1.46.0          |       ha29bfda_0         687 KB\n",
      "    libssh2-1.10.0             |       h52ee1ee_2         221 KB  conda-forge\n",
      "    libzopfli-1.0.3            |       h046ec9c_0         158 KB  conda-forge\n",
      "    locket-1.0.0               |     pyhd8ed1ab_0           8 KB  conda-forge\n",
      "    networkx-2.8.5             |     pyhd8ed1ab_0         1.5 MB  conda-forge\n",
      "    openjpeg-2.4.0             |       h6e7aa92_1         374 KB  conda-forge\n",
      "    openssl-1.1.1q             |       hfe4f2af_0         1.9 MB  conda-forge\n",
      "    partd-1.2.0                |     pyhd8ed1ab_0          18 KB  conda-forge\n",
      "    pywavelets-1.3.0           |   py39h86b5767_1         4.3 MB  conda-forge\n",
      "    pyyaml-6.0                 |   py39h63b48b0_4         172 KB  conda-forge\n",
      "    scikit-image-0.19.2        |   py39h4d6be9b_0        11.2 MB  conda-forge\n",
      "    snappy-1.1.9               |       he9d5cce_0         978 KB\n",
      "    tifffile-2021.7.2          |     pyhd8ed1ab_0         133 KB  conda-forge\n",
      "    toolz-0.12.0               |     pyhd8ed1ab_0          48 KB  conda-forge\n",
      "    yaml-0.2.5                 |       h0d85af4_2          82 KB  conda-forge\n",
      "    zfp-0.5.5                  |       h4a89273_8         172 KB  conda-forge\n",
      "    ------------------------------------------------------------\n",
      "                                           Total:        36.0 MB\n",
      "\n",
      "The following NEW packages will be INSTALLED:\n",
      "\n",
      "  blosc              pkgs/main/osx-64::blosc-1.21.0-h2842e9f_0\n",
      "  brunsli            conda-forge/osx-64::brunsli-0.1-h046ec9c_0\n",
      "  bzip2              conda-forge/osx-64::bzip2-1.0.8-h0d85af4_4\n",
      "  c-ares             conda-forge/osx-64::c-ares-1.18.1-h0d85af4_0\n",
      "  cfitsio            conda-forge/osx-64::cfitsio-3.470-h389770f_2\n",
      "  charls             pkgs/main/osx-64::charls-2.2.0-h23ab428_0\n",
      "  cloudpickle        conda-forge/noarch::cloudpickle-2.1.0-pyhd8ed1ab_0\n",
      "  cytoolz            conda-forge/osx-64::cytoolz-0.12.0-py39h701faf5_0\n",
      "  dask-core          conda-forge/noarch::dask-core-2022.7.0-pyhd8ed1ab_0\n",
      "  fsspec             conda-forge/noarch::fsspec-2022.5.0-pyhd8ed1ab_0\n",
      "  imagecodecs        pkgs/main/osx-64::imagecodecs-2021.8.26-py39ha952a84_0\n",
      "  imageio            conda-forge/noarch::imageio-2.19.3-pyhcf75d05_0\n",
      "  jxrlib             conda-forge/osx-64::jxrlib-1.1-h35c211d_2\n",
      "  krb5               pkgs/main/osx-64::krb5-1.19.2-hcd88c3b_0\n",
      "  lerc               conda-forge/osx-64::lerc-3.0-he49afe7_0\n",
      "  libaec             conda-forge/osx-64::libaec-1.0.6-he49afe7_0\n",
      "  libcurl            pkgs/main/osx-64::libcurl-7.82.0-h6dfd666_0\n",
      "  libdeflate         pkgs/main/osx-64::libdeflate-1.8-h9ed2024_5\n",
      "  libedit            pkgs/main/osx-64::libedit-3.1.20210910-hca72f7f_0\n",
      "  libev              conda-forge/osx-64::libev-4.33-haf1e3a3_1\n",
      "  libnghttp2         pkgs/main/osx-64::libnghttp2-1.46.0-ha29bfda_0\n",
      "  libssh2            conda-forge/osx-64::libssh2-1.10.0-h52ee1ee_2\n",
      "  libzopfli          conda-forge/osx-64::libzopfli-1.0.3-h046ec9c_0\n",
      "  locket             conda-forge/noarch::locket-1.0.0-pyhd8ed1ab_0\n",
      "  networkx           conda-forge/noarch::networkx-2.8.5-pyhd8ed1ab_0\n",
      "  openjpeg           conda-forge/osx-64::openjpeg-2.4.0-h6e7aa92_1\n",
      "  partd              conda-forge/noarch::partd-1.2.0-pyhd8ed1ab_0\n",
      "  pywavelets         conda-forge/osx-64::pywavelets-1.3.0-py39h86b5767_1\n",
      "  pyyaml             conda-forge/osx-64::pyyaml-6.0-py39h63b48b0_4\n",
      "  scikit-image       conda-forge/osx-64::scikit-image-0.19.2-py39h4d6be9b_0\n",
      "  snappy             pkgs/main/osx-64::snappy-1.1.9-he9d5cce_0\n",
      "  tifffile           conda-forge/noarch::tifffile-2021.7.2-pyhd8ed1ab_0\n",
      "  toolz              conda-forge/noarch::toolz-0.12.0-pyhd8ed1ab_0\n",
      "  yaml               conda-forge/osx-64::yaml-0.2.5-h0d85af4_2\n",
      "  zfp                conda-forge/osx-64::zfp-0.5.5-h4a89273_8\n",
      "\n",
      "The following packages will be UPDATED:\n",
      "\n",
      "  ca-certificates    pkgs/main::ca-certificates-2022.4.26-~ --> conda-forge::ca-certificates-2022.6.15-h033912b_0\n",
      "\n",
      "The following packages will be SUPERSEDED by a higher-priority channel:\n",
      "\n",
      "  certifi            pkgs/main::certifi-2022.6.15-py39hecd~ --> conda-forge::certifi-2022.6.15-py39h6e9494a_0\n",
      "  openssl              pkgs/main::openssl-1.1.1q-hca72f7f_0 --> conda-forge::openssl-1.1.1q-hfe4f2af_0\n",
      "\n",
      "\n",
      "\n",
      "Downloading and Extracting Packages\n",
      "pyyaml-6.0           | 172 KB    | ##################################### | 100% \n",
      "openjpeg-2.4.0       | 374 KB    | ##################################### | 100% \n",
      "cfitsio-3.470        | 1.4 MB    | ##################################### | 100% \n",
      "openssl-1.1.1q       | 1.9 MB    | ##################################### | 100% \n",
      "toolz-0.12.0         | 48 KB     | ##################################### | 100% \n",
      "networkx-2.8.5       | 1.5 MB    | ##################################### | 100% \n",
      "dask-core-2022.7.0   | 839 KB    | ##################################### | 100% \n",
      "partd-1.2.0          | 18 KB     | ##################################### | 100% \n",
      "libedit-3.1.20210910 | 139 KB    | ##################################### | 100% \n",
      "ca-certificates-2022 | 149 KB    | ##################################### | 100% \n",
      "imageio-2.19.3       | 3.2 MB    | ##################################### | 100% \n",
      "libzopfli-1.0.3      | 158 KB    | ##################################### | 100% \n",
      "yaml-0.2.5           | 82 KB     | ##################################### | 100% \n",
      "locket-1.0.0         | 8 KB      | ##################################### | 100% \n",
      "certifi-2022.6.15    | 155 KB    | ##################################### | 100% \n",
      "brunsli-0.1          | 179 KB    | ##################################### | 100% \n",
      "pywavelets-1.3.0     | 4.3 MB    | ##################################### | 100% \n",
      "libssh2-1.10.0       | 221 KB    | ##################################### | 100% \n",
      "cloudpickle-2.1.0    | 25 KB     | ##################################### | 100% \n",
      "krb5-1.19.2          | 1.1 MB    | ##################################### | 100% \n",
      "zfp-0.5.5            | 172 KB    | ##################################### | 100% \n",
      "imagecodecs-2021.8.2 | 5.9 MB    | ##################################### | 100% \n",
      "fsspec-2022.5.0      | 96 KB     | ##################################### | 100% \n",
      "libcurl-7.82.0       | 314 KB    | ##################################### | 100% \n",
      "libnghttp2-1.46.0    | 687 KB    | ##################################### | 100% \n"
     ]
    },
    {
     "name": "stdout",
     "output_type": "stream",
     "text": [
      "scikit-image-0.19.2  | 11.2 MB   | ##################################### | 100% \n",
      "libev-4.33           | 99 KB     | ##################################### | 100% \n",
      "snappy-1.1.9         | 978 KB    | ##################################### | 100% \n",
      "libaec-1.0.6         | 38 KB     | ##################################### | 100% \n",
      "jxrlib-1.1           | 226 KB    | ##################################### | 100% \n",
      "libdeflate-1.8       | 50 KB     | ##################################### | 100% \n",
      "charls-2.2.0         | 82 KB     | ##################################### | 100% \n",
      "tifffile-2021.7.2    | 133 KB    | ##################################### | 100% \n",
      "cytoolz-0.12.0       | 335 KB    | ##################################### | 100% \n",
      "Preparing transaction: done\n",
      "Verifying transaction: done\n",
      "Executing transaction: done\n",
      "\n",
      "Note: you may need to restart the kernel to use updated packages.\n"
     ]
    }
   ],
   "source": [
    "conda install -c conda-forge scikit-image\n"
   ]
  },
  {
   "cell_type": "code",
   "execution_count": 3,
   "id": "66475afe",
   "metadata": {},
   "outputs": [
    {
     "name": "stdout",
     "output_type": "stream",
     "text": [
      "Collecting package metadata (current_repodata.json): done\n",
      "Solving environment: failed with initial frozen solve. Retrying with flexible solve.\n",
      "Solving environment: failed with repodata from current_repodata.json, will retry with next repodata source.\n",
      "Collecting package metadata (repodata.json): done\n",
      "Solving environment: done\n",
      "\n",
      "\n",
      "==> WARNING: A newer version of conda exists. <==\n",
      "  current version: 4.12.0\n",
      "  latest version: 4.13.0\n",
      "\n",
      "Please update conda by running\n",
      "\n",
      "    $ conda update -n base -c defaults conda\n",
      "\n",
      "\n",
      "\n",
      "## Package Plan ##\n",
      "\n",
      "  environment location: /Users/vharikar/opt/anaconda3/envs/DataScience_Conda_Env\n",
      "\n",
      "  added / updated specs:\n",
      "    - opencv\n",
      "\n",
      "\n",
      "The following packages will be downloaded:\n",
      "\n",
      "    package                    |            build\n",
      "    ---------------------------|-----------------\n",
      "    cairo-1.16.0               |    h0ab9d94_1001         1.3 MB  conda-forge\n",
      "    ffmpeg-4.3.2               |       h4dad6da_1        49.3 MB  conda-forge\n",
      "    gettext-0.19.8.1           |    h7937167_1005         3.3 MB  conda-forge\n",
      "    glib-2.68.4                |       he49afe7_0         429 KB  conda-forge\n",
      "    glib-tools-2.68.4          |       he49afe7_0          81 KB  conda-forge\n",
      "    gmp-6.2.1                  |       h2e338ed_0         774 KB  conda-forge\n",
      "    gnutls-3.6.13              |       h756fd2b_1         2.0 MB  conda-forge\n",
      "    graphite2-1.3.14           |       he9d5cce_1          82 KB\n",
      "    harfbuzz-2.8.1             |       ha8c618c_0         932 KB\n",
      "    hdf5-1.10.6                |       hdbbcd12_0         3.0 MB\n",
      "    jasper-1.900.1             |    h636a363_1006         283 KB  conda-forge\n",
      "    lame-3.100                 |    h35c211d_1001         521 KB  conda-forge\n",
      "    libblas-3.9.0              |     12_osx64_mkl          12 KB  conda-forge\n",
      "    libcblas-3.9.0             |     12_osx64_mkl          12 KB  conda-forge\n",
      "    libglib-2.68.4             |       hd556434_0         2.8 MB  conda-forge\n",
      "    liblapack-3.9.0            |     12_osx64_mkl          12 KB  conda-forge\n",
      "    liblapacke-3.9.0           |     12_osx64_mkl          12 KB  conda-forge\n",
      "    libopencv-4.5.2            |   py39h49f8dfa_0        29.6 MB  conda-forge\n",
      "    libprotobuf-3.15.8         |       hcf210ce_1         2.2 MB  conda-forge\n",
      "    libzlib-1.2.12             |       hfe4f2af_2          63 KB  conda-forge\n",
      "    nettle-3.6                 |       hedd7734_0         1.2 MB  conda-forge\n",
      "    opencv-4.5.2               |   py39h6e9494a_0          21 KB  conda-forge\n",
      "    openh264-2.1.1             |       hfd3ada9_0         1.5 MB  conda-forge\n",
      "    pixman-0.38.0              |    h01d97ff_1003         611 KB  conda-forge\n",
      "    py-opencv-4.5.2            |   py39h71a6800_0         1.1 MB  conda-forge\n",
      "    x264-1!161.3030            |       h0d85af4_1         2.5 MB  conda-forge\n",
      "    ------------------------------------------------------------\n",
      "                                           Total:       103.5 MB\n",
      "\n",
      "The following NEW packages will be INSTALLED:\n",
      "\n",
      "  cairo              conda-forge/osx-64::cairo-1.16.0-h0ab9d94_1001\n",
      "  ffmpeg             conda-forge/osx-64::ffmpeg-4.3.2-h4dad6da_1\n",
      "  fontconfig         conda-forge/osx-64::fontconfig-2.13.1-h1027ab8_1000\n",
      "  gettext            conda-forge/osx-64::gettext-0.19.8.1-h7937167_1005\n",
      "  glib               conda-forge/osx-64::glib-2.68.4-he49afe7_0\n",
      "  glib-tools         conda-forge/osx-64::glib-tools-2.68.4-he49afe7_0\n",
      "  gmp                conda-forge/osx-64::gmp-6.2.1-h2e338ed_0\n",
      "  gnutls             conda-forge/osx-64::gnutls-3.6.13-h756fd2b_1\n",
      "  graphite2          pkgs/main/osx-64::graphite2-1.3.14-he9d5cce_1\n",
      "  harfbuzz           pkgs/main/osx-64::harfbuzz-2.8.1-ha8c618c_0\n",
      "  hdf5               pkgs/main/osx-64::hdf5-1.10.6-hdbbcd12_0\n",
      "  jasper             conda-forge/osx-64::jasper-1.900.1-h636a363_1006\n",
      "  lame               conda-forge/osx-64::lame-3.100-h35c211d_1001\n",
      "  libblas            conda-forge/osx-64::libblas-3.9.0-12_osx64_mkl\n",
      "  libcblas           conda-forge/osx-64::libcblas-3.9.0-12_osx64_mkl\n",
      "  libglib            conda-forge/osx-64::libglib-2.68.4-hd556434_0\n",
      "  libiconv           conda-forge/osx-64::libiconv-1.16-haf1e3a3_0\n",
      "  liblapack          conda-forge/osx-64::liblapack-3.9.0-12_osx64_mkl\n",
      "  liblapacke         conda-forge/osx-64::liblapacke-3.9.0-12_osx64_mkl\n",
      "  libopencv          conda-forge/osx-64::libopencv-4.5.2-py39h49f8dfa_0\n",
      "  libprotobuf        conda-forge/osx-64::libprotobuf-3.15.8-hcf210ce_1\n",
      "  libxml2            conda-forge/osx-64::libxml2-2.9.9-hd80cff7_2\n",
      "  libzlib            conda-forge/osx-64::libzlib-1.2.12-hfe4f2af_2\n",
      "  nettle             conda-forge/osx-64::nettle-3.6-hedd7734_0\n",
      "  opencv             conda-forge/osx-64::opencv-4.5.2-py39h6e9494a_0\n",
      "  openh264           conda-forge/osx-64::openh264-2.1.1-hfd3ada9_0\n",
      "  pcre               conda-forge/osx-64::pcre-8.45-he49afe7_0\n",
      "  pixman             conda-forge/osx-64::pixman-0.38.0-h01d97ff_1003\n",
      "  py-opencv          conda-forge/osx-64::py-opencv-4.5.2-py39h71a6800_0\n",
      "  x264               conda-forge/osx-64::x264-1!161.3030-h0d85af4_1\n",
      "\n",
      "\n",
      "\n",
      "Downloading and Extracting Packages\n",
      "hdf5-1.10.6          | 3.0 MB    | ##################################### | 100% \n",
      "libblas-3.9.0        | 12 KB     | ##################################### | 100% \n",
      "jasper-1.900.1       | 283 KB    | ##################################### | 100% \n",
      "lame-3.100           | 521 KB    | ##################################### | 100% \n",
      "glib-tools-2.68.4    | 81 KB     | ##################################### | 100% \n",
      "libprotobuf-3.15.8   | 2.2 MB    | ##################################### | 100% \n",
      "liblapacke-3.9.0     | 12 KB     | ##################################### | 100% \n",
      "gmp-6.2.1            | 774 KB    | ##################################### | 100% \n",
      "liblapack-3.9.0      | 12 KB     | ##################################### | 100% \n",
      "glib-2.68.4          | 429 KB    | ##################################### | 100% \n",
      "py-opencv-4.5.2      | 1.1 MB    | ##################################### | 100% \n",
      "libopencv-4.5.2      | 29.6 MB   | ##################################### | 100% \n",
      "gettext-0.19.8.1     | 3.3 MB    | ##################################### | 100% \n",
      "nettle-3.6           | 1.2 MB    | ##################################### | 100% \n",
      "pixman-0.38.0        | 611 KB    | ##################################### | 100% \n",
      "gnutls-3.6.13        | 2.0 MB    | ##################################### | 100% \n",
      "cairo-1.16.0         | 1.3 MB    | ##################################### | 100% \n",
      "opencv-4.5.2         | 21 KB     | ##################################### | 100% \n",
      "ffmpeg-4.3.2         | 49.3 MB   | ##################################### | 100% \n",
      "harfbuzz-2.8.1       | 932 KB    | ##################################### | 100% \n",
      "graphite2-1.3.14     | 82 KB     | ##################################### | 100% \n",
      "libzlib-1.2.12       | 63 KB     | ##################################### | 100% \n",
      "openh264-2.1.1       | 1.5 MB    | ##################################### | 100% \n",
      "libcblas-3.9.0       | 12 KB     | ##################################### | 100% \n",
      "libglib-2.68.4       | 2.8 MB    | ##################################### | 100% \n",
      "x264-1!161.3030      | 2.5 MB    | ##################################### | 100% \n",
      "Preparing transaction: done\n",
      "Verifying transaction: done\n",
      "Executing transaction: done\n",
      "\n",
      "Note: you may need to restart the kernel to use updated packages.\n"
     ]
    }
   ],
   "source": [
    "conda install -c conda-forge opencv"
   ]
  },
  {
   "cell_type": "code",
   "execution_count": 4,
   "id": "13926e53",
   "metadata": {},
   "outputs": [
    {
     "name": "stdout",
     "output_type": "stream",
     "text": [
      "Collecting package metadata (current_repodata.json): done\n",
      "Solving environment: failed with initial frozen solve. Retrying with flexible solve.\n",
      "Solving environment: failed with repodata from current_repodata.json, will retry with next repodata source.\n",
      "Collecting package metadata (repodata.json): done\n",
      "Solving environment: failed with initial frozen solve. Retrying with flexible solve.\n",
      "Solving environment: done\n",
      "\n",
      "\n",
      "==> WARNING: A newer version of conda exists. <==\n",
      "  current version: 4.12.0\n",
      "  latest version: 4.13.0\n",
      "\n",
      "Please update conda by running\n",
      "\n",
      "    $ conda update -n base -c defaults conda\n",
      "\n",
      "\n",
      "\n",
      "## Package Plan ##\n",
      "\n",
      "  environment location: /Users/vharikar/opt/anaconda3/envs/DataScience_Conda_Env\n",
      "\n",
      "  added / updated specs:\n",
      "    - tensorflow\n",
      "\n",
      "\n",
      "The following packages will be downloaded:\n",
      "\n",
      "    package                    |            build\n",
      "    ---------------------------|-----------------\n",
      "    abseil-cpp-20211102.0      |       h96cf925_1        1010 KB  conda-forge\n",
      "    absl-py-1.1.0              |     pyhd8ed1ab_0          94 KB  conda-forge\n",
      "    aiohttp-3.8.1              |   py39h63b48b0_1         556 KB  conda-forge\n",
      "    aiosignal-1.2.0            |     pyhd8ed1ab_0          12 KB  conda-forge\n",
      "    aom-3.3.0                  |       h96cf925_1         3.2 MB  conda-forge\n",
      "    astunparse-1.6.3           |     pyhd8ed1ab_0          15 KB  conda-forge\n",
      "    async-timeout-4.0.2        |     pyhd8ed1ab_0           9 KB  conda-forge\n",
      "    blas-2.113                 |         openblas          13 KB  conda-forge\n",
      "    blas-devel-3.9.0           |13_osx64_openblas          12 KB  conda-forge\n",
      "    blinker-1.4                |             py_1          13 KB  conda-forge\n",
      "    blosc-1.21.1               |       h97e831e_3          48 KB  conda-forge\n",
      "    brotlipy-0.7.0             |py39h63b48b0_1004         367 KB  conda-forge\n",
      "    c-blosc2-2.2.0             |       h2699725_0         262 KB  conda-forge\n",
      "    cached-property-1.5.2      |       hd8ed1ab_1           4 KB  conda-forge\n",
      "    cached_property-1.5.2      |     pyha770c72_1          11 KB  conda-forge\n",
      "    cachetools-5.0.0           |     pyhd8ed1ab_0          12 KB  conda-forge\n",
      "    cairo-1.16.0               |    h1680b09_1011         1.4 MB  conda-forge\n",
      "    cfitsio-4.0.0              |       hb20e66c_0         1.3 MB  conda-forge\n",
      "    charset-normalizer-2.1.0   |     pyhd8ed1ab_0          35 KB  conda-forge\n",
      "    click-8.1.3                |   py39h6e9494a_0         146 KB  conda-forge\n",
      "    cryptography-37.0.4        |   py39h9c2a9ce_0         1.2 MB  conda-forge\n",
      "    expat-2.4.8                |       h96cf925_0         146 KB  conda-forge\n",
      "    ffmpeg-4.4.1               |       hf5e6f72_4        10.5 MB  conda-forge\n",
      "    font-ttf-dejavu-sans-mono-2.37|       hab24e00_0         388 KB  conda-forge\n",
      "    font-ttf-inconsolata-3.000 |       h77eed37_0          94 KB  conda-forge\n",
      "    font-ttf-source-code-pro-2.038|       h77eed37_0         684 KB  conda-forge\n",
      "    font-ttf-ubuntu-0.83       |       hab24e00_0         1.9 MB  conda-forge\n",
      "    fontconfig-2.14.0          |       h676cef8_0         281 KB  conda-forge\n",
      "    fonts-conda-ecosystem-1    |                0           4 KB  conda-forge\n",
      "    fonts-conda-forge-1        |                0           4 KB  conda-forge\n",
      "    frozenlist-1.3.0           |   py39h63b48b0_1          39 KB  conda-forge\n",
      "    gast-0.4.0                 |     pyh9f0ad1d_0          12 KB  conda-forge\n",
      "    gettext-0.19.8.1           |    hd1a6beb_1008         3.3 MB  conda-forge\n",
      "    glib-2.72.1                |       h2292cb8_0         431 KB  conda-forge\n",
      "    glib-tools-2.72.1          |       h2292cb8_0          94 KB  conda-forge\n",
      "    google-auth-2.9.1          |     pyh6c4a22f_0          90 KB  conda-forge\n",
      "    google-auth-oauthlib-0.4.6 |     pyhd8ed1ab_0          19 KB  conda-forge\n",
      "    google-pasta-0.2.0         |     pyh8c360ce_0          42 KB  conda-forge\n",
      "    grpc-cpp-1.46.3            |       h0d31105_2         3.6 MB  conda-forge\n",
      "    grpcio-1.46.3              |   py39h80f1196_2         741 KB  conda-forge\n",
      "    gst-plugins-base-1.20.3    |       hda0ba4b_0         2.5 MB  conda-forge\n",
      "    gstreamer-1.20.3           |       hdc08c3f_0         1.9 MB  conda-forge\n",
      "    h5py-3.7.0                 |nompi_py39h66c274d_100         1.1 MB  conda-forge\n",
      "    harfbuzz-4.4.1             |       h00bb2c2_0         2.0 MB  conda-forge\n",
      "    hdf5-1.12.1                |nompi_ha60fbc9_104         3.7 MB  conda-forge\n",
      "    icu-70.1                   |       h96cf925_0        13.1 MB  conda-forge\n",
      "    idna-3.3                   |     pyhd8ed1ab_0          55 KB  conda-forge\n",
      "    imagecodecs-2021.11.20     |   py39h90d8905_1         7.0 MB  conda-forge\n",
      "    importlib-metadata-4.11.4  |   py39h6e9494a_0          33 KB  conda-forge\n",
      "    keras-2.9.0                |     pyhd8ed1ab_0         960 KB  conda-forge\n",
      "    keras-preprocessing-1.1.2  |     pyhd8ed1ab_0          34 KB  conda-forge\n",
      "    krb5-1.19.3                |       hb49756b_0         1.2 MB  conda-forge\n",
      "    libblas-3.9.0              |13_osx64_openblas          12 KB  conda-forge\n",
      "    libbrotlicommon-1.0.9      |       h5eb16cf_7          63 KB  conda-forge\n",
      "    libbrotlidec-1.0.9         |       h5eb16cf_7          33 KB  conda-forge\n",
      "    libbrotlienc-1.0.9         |       h5eb16cf_7         320 KB  conda-forge\n",
      "    libcblas-3.9.0             |13_osx64_openblas          12 KB  conda-forge\n",
      "    libclang-14.0.6            |default_h55ffa42_0         127 KB  conda-forge\n",
      "    libclang13-14.0.6          |default_hb5731bd_0         8.1 MB  conda-forge\n",
      "    libcurl-7.83.1             |       h372c54d_0         317 KB  conda-forge\n",
      "    libcxx-14.0.6              |       hce7ea42_0         1.3 MB  conda-forge\n",
      "    libffi-3.4.2               |       h0d85af4_5          50 KB  conda-forge\n",
      "    libgfortran-5.0.0          |9_3_0_h6c81a4c_23          19 KB  conda-forge\n",
      "    libgfortran5-9.3.0         |      h6c81a4c_23         1.7 MB  conda-forge\n",
      "    libglib-2.72.1             |       hfbcb929_0         2.9 MB  conda-forge\n",
      "    liblapack-3.9.0            |13_osx64_openblas          12 KB  conda-forge\n",
      "    liblapacke-3.9.0           |13_osx64_openblas          12 KB  conda-forge\n",
      "    libllvm14-14.0.6           |       h41df66c_0        26.8 MB  conda-forge\n",
      "    libnghttp2-1.47.0          |       h942079c_0         871 KB  conda-forge\n",
      "    libogg-1.3.4               |       h35c211d_1         202 KB  conda-forge\n",
      "    libopenblas-0.3.18         |openmp_h3351f45_0         9.0 MB  conda-forge\n",
      "    libopencv-4.5.5            |   py39h65567e8_9        30.8 MB  conda-forge\n",
      "    libopus-1.3.1              |       hc929b4f_1         273 KB  conda-forge\n",
      "    libpq-14.4                 |       hf6bb32a_0         2.9 MB  conda-forge\n",
      "    libprotobuf-3.20.1         |       h2292cb8_0         2.3 MB  conda-forge\n",
      "    libvorbis-1.3.7            |       h046ec9c_0         248 KB  conda-forge\n",
      "    libvpx-1.11.0              |       he49afe7_3         1.4 MB  conda-forge\n",
      "    libxml2-2.9.14             |       h08a9926_3         680 KB  conda-forge\n",
      "    markdown-3.4.1             |     pyhd8ed1ab_0          65 KB  conda-forge\n",
      "    mkl_fft-1.3.1              |   py39h7ae3660_1         186 KB  conda-forge\n",
      "    mkl_random-1.2.2           |   py39h4d6be9b_0         317 KB  conda-forge\n",
      "    multidict-6.0.2            |   py39h63b48b0_1          45 KB  conda-forge\n",
      "    mysql-common-8.0.29        |       h924029e_1         1.8 MB  conda-forge\n",
      "    mysql-libs-8.0.29          |       h3cab752_1         1.9 MB  conda-forge\n",
      "    nspr-4.32                  |       hcd9eead_1         247 KB  conda-forge\n",
      "    nss-3.78                   |       ha8197d3_0         2.0 MB  conda-forge\n",
      "    numexpr-2.8.3              |   py39hf72b562_0         130 KB  conda-forge\n",
      "    numpy-1.22.3               |   py39h9c3cb84_0          11 KB\n",
      "    numpy-base-1.22.3          |   py39he782bc1_0         5.1 MB\n",
      "    oauthlib-3.2.0             |     pyhd8ed1ab_0          90 KB  conda-forge\n",
      "    openblas-0.3.18            |openmp_h12da7db_0        10.1 MB  conda-forge\n",
      "    opencv-4.5.5               |   py39h6e9494a_9          23 KB  conda-forge\n",
      "    opt_einsum-3.3.0           |     pyhd8ed1ab_1          53 KB  conda-forge\n",
      "    pixman-0.40.0              |       hbcb3906_0         615 KB  conda-forge\n",
      "    ply-3.11                   |             py_1          44 KB  conda-forge\n",
      "    protobuf-3.20.1            |   py39hd408605_0         296 KB  conda-forge\n",
      "    py-opencv-4.5.5            |   py39h71a6800_9         1.1 MB  conda-forge\n",
      "    pyasn1-0.4.8               |             py_0          53 KB  conda-forge\n",
      "    pyasn1-modules-0.2.7       |             py_0          60 KB  conda-forge\n",
      "    pyjwt-2.4.0                |     pyhd8ed1ab_0          19 KB  conda-forge\n",
      "    pyopenssl-22.0.0           |     pyhd8ed1ab_0          49 KB  conda-forge\n",
      "    pyqt-5.15.7                |   py39h727c745_0         4.9 MB  conda-forge\n",
      "    pyqt5-sip-12.11.0          |   py39h7c248c4_0          77 KB  conda-forge\n",
      "    pysocks-1.7.1              |   py39h6e9494a_5          28 KB  conda-forge\n",
      "    python-3.9.7               |h1248fe1_3_cpython        12.5 MB  conda-forge\n",
      "    python-flatbuffers-1.12    |     pyhd8ed1ab_1          19 KB  conda-forge\n",
      "    pyu2f-0.1.5                |     pyhd8ed1ab_0          31 KB  conda-forge\n",
      "    qt-5.15.4                  |       hb3ad848_0          14 KB  conda-forge\n",
      "    qt-main-5.15.4             |       h938c29d_2        51.8 MB  conda-forge\n",
      "    qt-webengine-5.15.4        |       h72ca1e5_3        59.6 MB  conda-forge\n",
      "    re2-2022.06.01             |       hb486fe8_0         202 KB  conda-forge\n",
      "    requests-2.28.1            |     pyhd8ed1ab_0          53 KB  conda-forge\n",
      "    requests-oauthlib-1.3.1    |     pyhd8ed1ab_0          22 KB  conda-forge\n",
      "    rsa-4.9                    |     pyhd8ed1ab_0          29 KB  conda-forge\n",
      "    scipy-1.8.1                |   py39hfa1a3ab_0        22.0 MB  conda-forge\n",
      "    sip-6.6.2                  |   py39hd408605_0         486 KB  conda-forge\n",
      "    sqlite-3.39.1              |       hd9f0692_0         1.8 MB  conda-forge\n",
      "    svt-av1-1.1.0              |       hb486fe8_1         3.3 MB  conda-forge\n",
      "    tensorboard-2.9.0          |     pyhd8ed1ab_0         5.2 MB  conda-forge\n",
      "    tensorboard-data-server-0.6.0|   py39h1644bb1_2         2.3 MB  conda-forge\n",
      "    tensorboard-plugin-wit-1.8.1|     pyhd8ed1ab_0         668 KB  conda-forge\n",
      "    tensorflow-2.9.1           |cpu_py39hb0a6171_0          27 KB  conda-forge\n",
      "    tensorflow-base-2.9.1      |cpu_py39hdd40284_0       195.0 MB  conda-forge\n",
      "    tensorflow-estimator-2.9.1 |cpu_py39hd441b4c_0         618 KB  conda-forge\n",
      "    termcolor-1.1.0            |     pyhd8ed1ab_3           8 KB  conda-forge\n",
      "    toml-0.10.2                |     pyhd8ed1ab_0          18 KB  conda-forge\n",
      "    urllib3-1.26.10            |     pyhd8ed1ab_0         101 KB  conda-forge\n",
      "    werkzeug-2.1.2             |     pyhd8ed1ab_1         237 KB  conda-forge\n",
      "    wrapt-1.14.1               |   py39h701faf5_0          46 KB  conda-forge\n",
      "    x265-3.5                   |       hbb4e6a2_3         3.3 MB  conda-forge\n",
      "    yarl-1.7.2                 |   py39h63b48b0_2         128 KB  conda-forge\n",
      "    zipp-3.8.0                 |     pyhd8ed1ab_0          12 KB  conda-forge\n",
      "    zlib-ng-2.0.6              |       hac89ed1_0          98 KB  conda-forge\n",
      "    zstd-1.5.2                 |       ha9df2e0_2         466 KB  conda-forge\n",
      "    ------------------------------------------------------------\n",
      "                                           Total:       545.0 MB\n",
      "\n",
      "The following NEW packages will be INSTALLED:\n",
      "\n",
      "  abseil-cpp         conda-forge/osx-64::abseil-cpp-20211102.0-h96cf925_1\n",
      "  absl-py            conda-forge/noarch::absl-py-1.1.0-pyhd8ed1ab_0\n",
      "  aiohttp            conda-forge/osx-64::aiohttp-3.8.1-py39h63b48b0_1\n",
      "  aiosignal          conda-forge/noarch::aiosignal-1.2.0-pyhd8ed1ab_0\n",
      "  aom                conda-forge/osx-64::aom-3.3.0-h96cf925_1\n",
      "  astunparse         conda-forge/noarch::astunparse-1.6.3-pyhd8ed1ab_0\n",
      "  async-timeout      conda-forge/noarch::async-timeout-4.0.2-pyhd8ed1ab_0\n",
      "  blas-devel         conda-forge/osx-64::blas-devel-3.9.0-13_osx64_openblas\n",
      "  blinker            conda-forge/noarch::blinker-1.4-py_1\n",
      "  brotlipy           conda-forge/osx-64::brotlipy-0.7.0-py39h63b48b0_1004\n",
      "  c-blosc2           conda-forge/osx-64::c-blosc2-2.2.0-h2699725_0\n",
      "  cached-property    conda-forge/noarch::cached-property-1.5.2-hd8ed1ab_1\n",
      "  cached_property    conda-forge/noarch::cached_property-1.5.2-pyha770c72_1\n",
      "  cachetools         conda-forge/noarch::cachetools-5.0.0-pyhd8ed1ab_0\n",
      "  charset-normalizer conda-forge/noarch::charset-normalizer-2.1.0-pyhd8ed1ab_0\n",
      "  click              conda-forge/osx-64::click-8.1.3-py39h6e9494a_0\n",
      "  cryptography       conda-forge/osx-64::cryptography-37.0.4-py39h9c2a9ce_0\n",
      "  expat              conda-forge/osx-64::expat-2.4.8-h96cf925_0\n",
      "  font-ttf-dejavu-s~ conda-forge/noarch::font-ttf-dejavu-sans-mono-2.37-hab24e00_0\n",
      "  font-ttf-inconsol~ conda-forge/noarch::font-ttf-inconsolata-3.000-h77eed37_0\n",
      "  font-ttf-source-c~ conda-forge/noarch::font-ttf-source-code-pro-2.038-h77eed37_0\n",
      "  font-ttf-ubuntu    conda-forge/noarch::font-ttf-ubuntu-0.83-hab24e00_0\n",
      "  fonts-conda-ecosy~ conda-forge/noarch::fonts-conda-ecosystem-1-0\n",
      "  fonts-conda-forge  conda-forge/noarch::fonts-conda-forge-1-0\n",
      "  frozenlist         conda-forge/osx-64::frozenlist-1.3.0-py39h63b48b0_1\n",
      "  gast               conda-forge/noarch::gast-0.4.0-pyh9f0ad1d_0\n",
      "  google-auth        conda-forge/noarch::google-auth-2.9.1-pyh6c4a22f_0\n",
      "  google-auth-oauth~ conda-forge/noarch::google-auth-oauthlib-0.4.6-pyhd8ed1ab_0\n",
      "  google-pasta       conda-forge/noarch::google-pasta-0.2.0-pyh8c360ce_0\n",
      "  grpc-cpp           conda-forge/osx-64::grpc-cpp-1.46.3-h0d31105_2\n",
      "  grpcio             conda-forge/osx-64::grpcio-1.46.3-py39h80f1196_2\n",
      "  gst-plugins-base   conda-forge/osx-64::gst-plugins-base-1.20.3-hda0ba4b_0\n",
      "  gstreamer          conda-forge/osx-64::gstreamer-1.20.3-hdc08c3f_0\n",
      "  h5py               conda-forge/osx-64::h5py-3.7.0-nompi_py39h66c274d_100\n",
      "  idna               conda-forge/noarch::idna-3.3-pyhd8ed1ab_0\n",
      "  importlib-metadata conda-forge/osx-64::importlib-metadata-4.11.4-py39h6e9494a_0\n",
      "  jbig               conda-forge/osx-64::jbig-2.1-h0d85af4_2003\n",
      "  keras              conda-forge/noarch::keras-2.9.0-pyhd8ed1ab_0\n",
      "  keras-preprocessi~ conda-forge/noarch::keras-preprocessing-1.1.2-pyhd8ed1ab_0\n",
      "  libbrotlicommon    conda-forge/osx-64::libbrotlicommon-1.0.9-h5eb16cf_7\n",
      "  libbrotlidec       conda-forge/osx-64::libbrotlidec-1.0.9-h5eb16cf_7\n",
      "  libbrotlienc       conda-forge/osx-64::libbrotlienc-1.0.9-h5eb16cf_7\n",
      "  libclang           conda-forge/osx-64::libclang-14.0.6-default_h55ffa42_0\n",
      "  libclang13         conda-forge/osx-64::libclang13-14.0.6-default_hb5731bd_0\n",
      "  libgfortran5       conda-forge/osx-64::libgfortran5-9.3.0-h6c81a4c_23\n",
      "  libllvm14          conda-forge/osx-64::libllvm14-14.0.6-h41df66c_0\n",
      "  libogg             conda-forge/osx-64::libogg-1.3.4-h35c211d_1\n",
      "  libopenblas        conda-forge/osx-64::libopenblas-0.3.18-openmp_h3351f45_0\n",
      "  libopus            conda-forge/osx-64::libopus-1.3.1-hc929b4f_1\n",
      "  libpq              conda-forge/osx-64::libpq-14.4-hf6bb32a_0\n",
      "  libvorbis          conda-forge/osx-64::libvorbis-1.3.7-h046ec9c_0\n",
      "  libvpx             conda-forge/osx-64::libvpx-1.11.0-he49afe7_3\n",
      "  markdown           conda-forge/noarch::markdown-3.4.1-pyhd8ed1ab_0\n",
      "  multidict          conda-forge/osx-64::multidict-6.0.2-py39h63b48b0_1\n",
      "  mysql-common       conda-forge/osx-64::mysql-common-8.0.29-h924029e_1\n",
      "  mysql-libs         conda-forge/osx-64::mysql-libs-8.0.29-h3cab752_1\n",
      "  nspr               conda-forge/osx-64::nspr-4.32-hcd9eead_1\n",
      "  nss                conda-forge/osx-64::nss-3.78-ha8197d3_0\n",
      "  oauthlib           conda-forge/noarch::oauthlib-3.2.0-pyhd8ed1ab_0\n",
      "  openblas           conda-forge/osx-64::openblas-0.3.18-openmp_h12da7db_0\n",
      "  opt_einsum         conda-forge/noarch::opt_einsum-3.3.0-pyhd8ed1ab_1\n",
      "  ply                conda-forge/noarch::ply-3.11-py_1\n",
      "  protobuf           conda-forge/osx-64::protobuf-3.20.1-py39hd408605_0\n",
      "  pyasn1             conda-forge/noarch::pyasn1-0.4.8-py_0\n",
      "  pyasn1-modules     conda-forge/noarch::pyasn1-modules-0.2.7-py_0\n",
      "  pyjwt              conda-forge/noarch::pyjwt-2.4.0-pyhd8ed1ab_0\n",
      "  pyopenssl          conda-forge/noarch::pyopenssl-22.0.0-pyhd8ed1ab_0\n",
      "  pyqt5-sip          conda-forge/osx-64::pyqt5-sip-12.11.0-py39h7c248c4_0\n",
      "  pysocks            conda-forge/osx-64::pysocks-1.7.1-py39h6e9494a_5\n",
      "  python-flatbuffers conda-forge/noarch::python-flatbuffers-1.12-pyhd8ed1ab_1\n",
      "  pyu2f              conda-forge/noarch::pyu2f-0.1.5-pyhd8ed1ab_0\n",
      "  qt-main            conda-forge/osx-64::qt-main-5.15.4-h938c29d_2\n",
      "  qt-webengine       conda-forge/osx-64::qt-webengine-5.15.4-h72ca1e5_3\n",
      "  re2                conda-forge/osx-64::re2-2022.06.01-hb486fe8_0\n",
      "  requests           conda-forge/noarch::requests-2.28.1-pyhd8ed1ab_0\n",
      "  requests-oauthlib  conda-forge/noarch::requests-oauthlib-1.3.1-pyhd8ed1ab_0\n",
      "  rsa                conda-forge/noarch::rsa-4.9-pyhd8ed1ab_0\n",
      "  svt-av1            conda-forge/osx-64::svt-av1-1.1.0-hb486fe8_1\n",
      "  tensorboard        conda-forge/noarch::tensorboard-2.9.0-pyhd8ed1ab_0\n",
      "  tensorboard-data-~ conda-forge/osx-64::tensorboard-data-server-0.6.0-py39h1644bb1_2\n",
      "  tensorboard-plugi~ conda-forge/noarch::tensorboard-plugin-wit-1.8.1-pyhd8ed1ab_0\n",
      "  tensorflow         conda-forge/osx-64::tensorflow-2.9.1-cpu_py39hb0a6171_0\n",
      "  tensorflow-base    conda-forge/osx-64::tensorflow-base-2.9.1-cpu_py39hdd40284_0\n",
      "  tensorflow-estima~ conda-forge/osx-64::tensorflow-estimator-2.9.1-cpu_py39hd441b4c_0\n",
      "  termcolor          conda-forge/noarch::termcolor-1.1.0-pyhd8ed1ab_3\n",
      "  toml               conda-forge/noarch::toml-0.10.2-pyhd8ed1ab_0\n",
      "  urllib3            conda-forge/noarch::urllib3-1.26.10-pyhd8ed1ab_0\n",
      "  werkzeug           conda-forge/noarch::werkzeug-2.1.2-pyhd8ed1ab_1\n",
      "  wrapt              conda-forge/osx-64::wrapt-1.14.1-py39h701faf5_0\n",
      "  x265               conda-forge/osx-64::x265-3.5-hbb4e6a2_3\n",
      "  yarl               conda-forge/osx-64::yarl-1.7.2-py39h63b48b0_2\n",
      "  zipp               conda-forge/noarch::zipp-3.8.0-pyhd8ed1ab_0\n",
      "  zlib-ng            conda-forge/osx-64::zlib-ng-2.0.6-hac89ed1_0\n",
      "\n",
      "The following packages will be UPDATED:\n",
      "\n",
      "  blas                              pkgs/main::blas-1.0-mkl --> conda-forge::blas-2.113-openblas\n",
      "  blosc                  pkgs/main::blosc-1.21.0-h2842e9f_0 --> conda-forge::blosc-1.21.1-h97e831e_3\n",
      "  cairo                                1.16.0-h0ab9d94_1001 --> 1.16.0-h1680b09_1011\n",
      "  cfitsio                                  3.470-h389770f_2 --> 4.0.0-hb20e66c_0\n",
      "  ffmpeg                                   4.3.2-h4dad6da_1 --> 4.4.1-hf5e6f72_4\n",
      "  fontconfig                           2.13.1-h1027ab8_1000 --> 2.14.0-h676cef8_0\n",
      "  gettext                            0.19.8.1-h7937167_1005 --> 0.19.8.1-hd1a6beb_1008\n",
      "  glib                                    2.68.4-he49afe7_0 --> 2.72.1-h2292cb8_0\n",
      "  glib-tools                              2.68.4-he49afe7_0 --> 2.72.1-h2292cb8_0\n",
      "  harfbuzz             pkgs/main::harfbuzz-2.8.1-ha8c618c_0 --> conda-forge::harfbuzz-4.4.1-h00bb2c2_0\n",
      "  hdf5                    pkgs/main::hdf5-1.10.6-hdbbcd12_0 --> conda-forge::hdf5-1.12.1-nompi_ha60fbc9_104\n",
      "  icu                        pkgs/main::icu-58.2-h0a44026_3 --> conda-forge::icu-70.1-h96cf925_0\n",
      "  imagecodecs        pkgs/main::imagecodecs-2021.8.26-py39~ --> conda-forge::imagecodecs-2021.11.20-py39h90d8905_1\n",
      "  jasper                              1.900.1-h636a363_1006 --> 2.0.33-h013e400_0\n",
      "  krb5                    pkgs/main::krb5-1.19.2-hcd88c3b_0 --> conda-forge::krb5-1.19.3-hb49756b_0\n",
      "  libblas                                3.9.0-12_osx64_mkl --> 3.9.0-13_osx64_openblas\n",
      "  libcblas                               3.9.0-12_osx64_mkl --> 3.9.0-13_osx64_openblas\n",
      "  libcurl              pkgs/main::libcurl-7.82.0-h6dfd666_0 --> conda-forge::libcurl-7.83.1-h372c54d_0\n",
      "  libcxx                pkgs/main::libcxx-12.0.0-h2f01273_0 --> conda-forge::libcxx-14.0.6-hce7ea42_0\n",
      "  libffi                   pkgs/main::libffi-3.3-hb1e8313_2 --> conda-forge::libffi-3.4.2-h0d85af4_5\n",
      "  libgfortran        pkgs/main::libgfortran-3.0.1-h93005f0~ --> conda-forge::libgfortran-5.0.0-9_3_0_h6c81a4c_23\n",
      "  libglib                                 2.68.4-hd556434_0 --> 2.72.1-hfbcb929_0\n",
      "  liblapack                              3.9.0-12_osx64_mkl --> 3.9.0-13_osx64_openblas\n",
      "  liblapacke                             3.9.0-12_osx64_mkl --> 3.9.0-13_osx64_openblas\n",
      "  libnghttp2         pkgs/main::libnghttp2-1.46.0-ha29bfda~ --> conda-forge::libnghttp2-1.47.0-h942079c_0\n",
      "  libopencv                            4.5.2-py39h49f8dfa_0 --> 4.5.5-py39h65567e8_9\n",
      "  libprotobuf                             3.15.8-hcf210ce_1 --> 3.20.1-h2292cb8_0\n",
      "  libtiff               pkgs/main::libtiff-4.2.0-h87d7836_0 --> conda-forge::libtiff-4.3.0-hd146c10_2\n",
      "  libxml2                                  2.9.9-hd80cff7_2 --> 2.9.14-h08a9926_3\n",
      "  mkl_fft            pkgs/main::mkl_fft-1.3.1-py39h4ab4a9b~ --> conda-forge::mkl_fft-1.3.1-py39h7ae3660_1\n",
      "  numexpr            pkgs/main::numexpr-2.8.1-py39h2e5f0a9~ --> conda-forge::numexpr-2.8.3-py39hf72b562_0\n",
      "  numpy                               1.21.5-py39h2e5f0a9_2 --> 1.22.3-py39h9c3cb84_0\n",
      "  numpy-base                          1.21.5-py39h3b1a694_2 --> 1.22.3-py39he782bc1_0\n",
      "  opencv                               4.5.2-py39h6e9494a_0 --> 4.5.5-py39h6e9494a_9\n",
      "  pixman                               0.38.0-h01d97ff_1003 --> 0.40.0-hbcb3906_0\n",
      "  py-opencv                            4.5.2-py39h71a6800_0 --> 4.5.5-py39h71a6800_9\n",
      "  pyqt                 pkgs/main::pyqt-5.9.2-py39h23ab428_6 --> conda-forge::pyqt-5.15.7-py39h727c745_0\n",
      "  python                 pkgs/main::python-3.9.7-h88f2d9e_1 --> conda-forge::python-3.9.7-h1248fe1_3_cpython\n",
      "  qt                         pkgs/main::qt-5.9.7-h468cd18_1 --> conda-forge::qt-5.15.4-hb3ad848_0\n",
      "  scipy               pkgs/main::scipy-1.7.3-py39h8c7af03_0 --> conda-forge::scipy-1.8.1-py39hfa1a3ab_0\n",
      "  sip                 pkgs/main::sip-4.19.13-py39h23ab428_0 --> conda-forge::sip-6.6.2-py39hd408605_0\n",
      "  sqlite                pkgs/main::sqlite-3.38.2-h707629a_0 --> conda-forge::sqlite-3.39.1-hd9f0692_0\n",
      "  zstd                     pkgs/main::zstd-1.4.9-h322a384_0 --> conda-forge::zstd-1.5.2-ha9df2e0_2\n",
      "\n",
      "The following packages will be SUPERSEDED by a higher-priority channel:\n",
      "\n",
      "  mkl_random         pkgs/main::mkl_random-1.2.2-py39hb2f4~ --> conda-forge::mkl_random-1.2.2-py39h4d6be9b_0\n",
      "\n",
      "\n",
      "\n",
      "Downloading and Extracting Packages\n"
     ]
    },
    {
     "name": "stdout",
     "output_type": "stream",
     "text": [
      "aom-3.3.0            | 3.2 MB    | ##################################### | 100% \n",
      "libogg-1.3.4         | 202 KB    | ##################################### | 100% \n",
      "x265-3.5             | 3.3 MB    | ##################################### | 100% \n",
      "brotlipy-0.7.0       | 367 KB    | ##################################### | 100% \n",
      "pyqt5-sip-12.11.0    | 77 KB     | ##################################### | 100% \n",
      "libbrotlidec-1.0.9   | 33 KB     | ##################################### | 100% \n",
      "fonts-conda-ecosyste | 4 KB      | ##################################### | 100% \n",
      "libbrotlienc-1.0.9   | 320 KB    | ##################################### | 100% \n",
      "tensorboard-plugin-w | 668 KB    | ##################################### | 100% \n",
      "harfbuzz-4.4.1       | 2.0 MB    | ##################################### | 100% \n",
      "python-flatbuffers-1 | 19 KB     | ##################################### | 100% \n",
      "keras-preprocessing- | 34 KB     | ##################################### | 100% \n",
      "libpq-14.4           | 2.9 MB    | ##################################### | 100% \n",
      "astunparse-1.6.3     | 15 KB     | ##################################### | 100% \n",
      "libclang-14.0.6      | 127 KB    | ##################################### | 100% \n",
      "google-pasta-0.2.0   | 42 KB     | ##################################### | 100% \n",
      "pyasn1-modules-0.2.7 | 60 KB     | ##################################### | 100% \n",
      "oauthlib-3.2.0       | 90 KB     | ##################################### | 100% \n",
      "libglib-2.72.1       | 2.9 MB    | ##################################### | 100% \n",
      "liblapacke-3.9.0     | 12 KB     | ##################################### | 100% \n",
      "h5py-3.7.0           | 1.1 MB    | ##################################### | 100% \n",
      "yarl-1.7.2           | 128 KB    | ##################################### | 100% \n",
      "font-ttf-source-code | 684 KB    | ##################################### | 100% \n",
      "rsa-4.9              | 29 KB     | ##################################### | 100% \n",
      "zlib-ng-2.0.6        | 98 KB     | ##################################### | 100% \n",
      "libcblas-3.9.0       | 12 KB     | ##################################### | 100% \n",
      "cached_property-1.5. | 11 KB     | ##################################### | 100% \n",
      "libgfortran-5.0.0    | 19 KB     | ##################################### | 100% \n",
      "termcolor-1.1.0      | 8 KB      | ##################################### | 100% \n",
      "zstd-1.5.2           | 466 KB    | ##################################### | 100% \n",
      "qt-main-5.15.4       | 51.8 MB   | ##################################### | 100% \n",
      "pyopenssl-22.0.0     | 49 KB     | ##################################### | 100% \n",
      "glib-tools-2.72.1    | 94 KB     | ##################################### | 100% \n",
      "protobuf-3.20.1      | 296 KB    | ##################################### | 100% \n",
      "pyqt-5.15.7          | 4.9 MB    | ##################################### | 100% \n",
      "abseil-cpp-20211102. | 1010 KB   | ##################################### | 100% \n",
      "ply-3.11             | 44 KB     | ##################################### | 100% \n",
      "numpy-base-1.22.3    | 5.1 MB    | ##################################### | 100% \n",
      "scipy-1.8.1          | 22.0 MB   | ##################################### | 100% \n",
      "keras-2.9.0          | 960 KB    | ##################################### | 100% \n",
      "libbrotlicommon-1.0. | 63 KB     | ##################################### | 100% \n",
      "pixman-0.40.0        | 615 KB    | ##################################### | 100% \n",
      "libvpx-1.11.0        | 1.4 MB    | ##################################### | 100% \n",
      "mkl_random-1.2.2     | 317 KB    | ##################################### | 100% \n",
      "werkzeug-2.1.2       | 237 KB    | ##################################### | 100% \n",
      "libprotobuf-3.20.1   | 2.3 MB    | ##################################### | 100% \n",
      "cairo-1.16.0         | 1.4 MB    | ##################################### | 100% \n",
      "mkl_fft-1.3.1        | 186 KB    | ##################################### | 100% \n",
      "google-auth-2.9.1    | 90 KB     | ##################################### | 100% \n",
      "blas-devel-3.9.0     | 12 KB     | ##################################### | 100% \n",
      "fonts-conda-forge-1  | 4 KB      | ##################################### | 100% \n",
      "wrapt-1.14.1         | 46 KB     | ##################################### | 100% \n",
      "libopus-1.3.1        | 273 KB    | ##################################### | 100% \n",
      "grpcio-1.46.3        | 741 KB    | ##################################### | 100% \n",
      "py-opencv-4.5.5      | 1.1 MB    | ##################################### | 100% \n",
      "tensorflow-2.9.1     | 27 KB     | ##################################### | 100% \n",
      "importlib-metadata-4 | 33 KB     | ##################################### | 100% \n",
      "pyasn1-0.4.8         | 53 KB     | ##################################### | 100% \n",
      "opt_einsum-3.3.0     | 53 KB     | ##################################### | 100% \n",
      "imagecodecs-2021.11. | 7.0 MB    | ##################################### | 100% \n",
      "libblas-3.9.0        | 12 KB     | ##################################### | 100% \n",
      "openblas-0.3.18      | 10.1 MB   | ##################################### | 100% \n",
      "requests-2.28.1      | 53 KB     | ##################################### | 100% \n",
      "opencv-4.5.5         | 23 KB     | ##################################### | 100% \n",
      "fontconfig-2.14.0    | 281 KB    | ##################################### | 100% \n",
      "mysql-common-8.0.29  | 1.8 MB    | ##################################### | 100% \n",
      "icu-70.1             | 13.1 MB   | ##################################### | 100% \n",
      "tensorflow-estimator | 618 KB    | ##################################### | 100% \n",
      "qt-5.15.4            | 14 KB     | ##################################### | 100% \n",
      "aiohttp-3.8.1        | 556 KB    | ##################################### | 100% \n",
      "libcxx-14.0.6        | 1.3 MB    | ##################################### | 100% \n",
      "libnghttp2-1.47.0    | 871 KB    | ##################################### | 100% \n",
      "qt-webengine-5.15.4  | 59.6 MB   | ##################################### | 100% \n",
      "libllvm14-14.0.6     | 26.8 MB   | ##################################### | 100% \n",
      "cryptography-37.0.4  | 1.2 MB    | ##################################### | 100% \n",
      "sip-6.6.2            | 486 KB    | ##################################### | 100% \n",
      "libvorbis-1.3.7      | 248 KB    | ##################################### | 100% \n",
      "multidict-6.0.2      | 45 KB     | ##################################### | 100% \n",
      "toml-0.10.2          | 18 KB     | ##################################### | 100% \n",
      "libopencv-4.5.5      | 30.8 MB   | ##################################### | 100% \n",
      "libffi-3.4.2         | 50 KB     | ##################################### | 100% \n",
      "tensorboard-2.9.0    | 5.2 MB    | ##################################### | 100% \n",
      "frozenlist-1.3.0     | 39 KB     | ##################################### | 100% \n",
      "pyjwt-2.4.0          | 19 KB     | ##################################### | 100% \n",
      "libxml2-2.9.14       | 680 KB    | ##################################### | 100% \n",
      "absl-py-1.1.0        | 94 KB     | ##################################### | 100% \n",
      "gast-0.4.0           | 12 KB     | ##################################### | 100% \n",
      "python-3.9.7         | 12.5 MB   | ##################################### | 100% \n",
      "hdf5-1.12.1          | 3.7 MB    | ##################################### | 100% \n",
      "re2-2022.06.01       | 202 KB    | ##################################### | 100% \n",
      "blas-2.113           | 13 KB     | ##################################### | 100% \n",
      "requests-oauthlib-1. | 22 KB     | ##################################### | 100% \n",
      "blosc-1.21.1         | 48 KB     | ##################################### | 100% \n",
      "liblapack-3.9.0      | 12 KB     | ##################################### | 100% \n",
      "pysocks-1.7.1        | 28 KB     | ##################################### | 100% \n",
      "font-ttf-dejavu-sans | 388 KB    | ##################################### | 100% \n",
      "nspr-4.32            | 247 KB    | ##################################### | 100% \n",
      "c-blosc2-2.2.0       | 262 KB    | ##################################### | 100% \n",
      "cached-property-1.5. | 4 KB      | ##################################### | 100% \n",
      "zipp-3.8.0           | 12 KB     | ##################################### | 100% \n",
      "cfitsio-4.0.0        | 1.3 MB    | ##################################### | 100% \n"
     ]
    },
    {
     "name": "stdout",
     "output_type": "stream",
     "text": [
      "krb5-1.19.3          | 1.2 MB    | ##################################### | 100% \n",
      "mysql-libs-8.0.29    | 1.9 MB    | ##################################### | 100% \n",
      "markdown-3.4.1       | 65 KB     | ##################################### | 100% \n",
      "async-timeout-4.0.2  | 9 KB      | ##################################### | 100% \n",
      "grpc-cpp-1.46.3      | 3.6 MB    | ##################################### | 100% \n",
      "font-ttf-ubuntu-0.83 | 1.9 MB    | ##################################### | 100% \n",
      "numexpr-2.8.3        | 130 KB    | ##################################### | 100% \n",
      "cachetools-5.0.0     | 12 KB     | ##################################### | 100% \n",
      "ffmpeg-4.4.1         | 10.5 MB   | ##################################### | 100% \n",
      "sqlite-3.39.1        | 1.8 MB    | ##################################### | 100% \n",
      "tensorflow-base-2.9. | 195.0 MB  | ##################################### | 100% \n",
      "charset-normalizer-2 | 35 KB     | ##################################### | 100% \n",
      "gst-plugins-base-1.2 | 2.5 MB    | ##################################### | 100% \n",
      "libcurl-7.83.1       | 317 KB    | ##################################### | 100% \n",
      "urllib3-1.26.10      | 101 KB    | ##################################### | 100% \n",
      "expat-2.4.8          | 146 KB    | ##################################### | 100% \n",
      "click-8.1.3          | 146 KB    | ##################################### | 100% \n",
      "aiosignal-1.2.0      | 12 KB     | ##################################### | 100% \n",
      "google-auth-oauthlib | 19 KB     | ##################################### | 100% \n",
      "svt-av1-1.1.0        | 3.3 MB    | ##################################### | 100% \n",
      "nss-3.78             | 2.0 MB    | ##################################### | 100% \n",
      "blinker-1.4          | 13 KB     | ##################################### | 100% \n",
      "idna-3.3             | 55 KB     | ##################################### | 100% \n",
      "numpy-1.22.3         | 11 KB     | ##################################### | 100% \n",
      "libopenblas-0.3.18   | 9.0 MB    | ##################################### | 100% \n",
      "font-ttf-inconsolata | 94 KB     | ##################################### | 100% \n",
      "gstreamer-1.20.3     | 1.9 MB    | ##################################### | 100% \n",
      "glib-2.72.1          | 431 KB    | ##################################### | 100% \n",
      "gettext-0.19.8.1     | 3.3 MB    | ##################################### | 100% \n",
      "pyu2f-0.1.5          | 31 KB     | ##################################### | 100% \n",
      "libgfortran5-9.3.0   | 1.7 MB    | ##################################### | 100% \n",
      "libclang13-14.0.6    | 8.1 MB    | ##################################### | 100% \n",
      "tensorboard-data-ser | 2.3 MB    | ##################################### | 100% \n",
      "Preparing transaction: done\n",
      "Verifying transaction: done\n",
      "Executing transaction: done\n",
      "\n",
      "Note: you may need to restart the kernel to use updated packages.\n"
     ]
    }
   ],
   "source": [
    "conda install -c conda-forge tensorflow"
   ]
  },
  {
   "cell_type": "code",
   "execution_count": 5,
   "id": "904beb98",
   "metadata": {},
   "outputs": [
    {
     "name": "stdout",
     "output_type": "stream",
     "text": [
      "\n",
      "Note: you may need to restart the kernel to use updated packages.\n"
     ]
    }
   ],
   "source": [
    "conda install -c conda-forge keras"
   ]
  },
  {
   "cell_type": "code",
   "execution_count": 63,
   "id": "f1504890",
   "metadata": {},
   "outputs": [],
   "source": [
    "import cv2\n",
    "import numpy as np\n",
    "import pandas as pd\n",
    "import matplotlib.pyplot as plt"
   ]
  },
  {
   "cell_type": "markdown",
   "id": "e564042b",
   "metadata": {},
   "source": [
    "## Read the Data"
   ]
  },
  {
   "cell_type": "code",
   "execution_count": 64,
   "id": "34fb302e",
   "metadata": {},
   "outputs": [],
   "source": [
    "train_data = pd.read_csv('../images/written_name_train_v2.csv')\n",
    "valid_data = pd.read_csv('../images/written_name_validation_v2.csv')"
   ]
  },
  {
   "cell_type": "markdown",
   "id": "9352342e",
   "metadata": {},
   "source": [
    "## Analyze the Data"
   ]
  },
  {
   "cell_type": "code",
   "execution_count": 65,
   "id": "3e1a1016",
   "metadata": {},
   "outputs": [
    {
     "data": {
      "text/html": [
       "<div>\n",
       "<style scoped>\n",
       "    .dataframe tbody tr th:only-of-type {\n",
       "        vertical-align: middle;\n",
       "    }\n",
       "\n",
       "    .dataframe tbody tr th {\n",
       "        vertical-align: top;\n",
       "    }\n",
       "\n",
       "    .dataframe thead th {\n",
       "        text-align: right;\n",
       "    }\n",
       "</style>\n",
       "<table border=\"1\" class=\"dataframe\">\n",
       "  <thead>\n",
       "    <tr style=\"text-align: right;\">\n",
       "      <th></th>\n",
       "      <th>FILENAME</th>\n",
       "      <th>IDENTITY</th>\n",
       "    </tr>\n",
       "  </thead>\n",
       "  <tbody>\n",
       "    <tr>\n",
       "      <th>0</th>\n",
       "      <td>TRAIN_00001.jpg</td>\n",
       "      <td>BALTHAZAR</td>\n",
       "    </tr>\n",
       "    <tr>\n",
       "      <th>1</th>\n",
       "      <td>TRAIN_00002.jpg</td>\n",
       "      <td>SIMON</td>\n",
       "    </tr>\n",
       "    <tr>\n",
       "      <th>2</th>\n",
       "      <td>TRAIN_00003.jpg</td>\n",
       "      <td>BENES</td>\n",
       "    </tr>\n",
       "    <tr>\n",
       "      <th>3</th>\n",
       "      <td>TRAIN_00004.jpg</td>\n",
       "      <td>LA LOVE</td>\n",
       "    </tr>\n",
       "    <tr>\n",
       "      <th>4</th>\n",
       "      <td>TRAIN_00005.jpg</td>\n",
       "      <td>DAPHNE</td>\n",
       "    </tr>\n",
       "  </tbody>\n",
       "</table>\n",
       "</div>"
      ],
      "text/plain": [
       "          FILENAME   IDENTITY\n",
       "0  TRAIN_00001.jpg  BALTHAZAR\n",
       "1  TRAIN_00002.jpg      SIMON\n",
       "2  TRAIN_00003.jpg      BENES\n",
       "3  TRAIN_00004.jpg    LA LOVE\n",
       "4  TRAIN_00005.jpg     DAPHNE"
      ]
     },
     "execution_count": 65,
     "metadata": {},
     "output_type": "execute_result"
    }
   ],
   "source": [
    "train_data.head()"
   ]
  },
  {
   "cell_type": "code",
   "execution_count": 66,
   "id": "e866f902",
   "metadata": {},
   "outputs": [
    {
     "data": {
      "text/html": [
       "<div>\n",
       "<style scoped>\n",
       "    .dataframe tbody tr th:only-of-type {\n",
       "        vertical-align: middle;\n",
       "    }\n",
       "\n",
       "    .dataframe tbody tr th {\n",
       "        vertical-align: top;\n",
       "    }\n",
       "\n",
       "    .dataframe thead th {\n",
       "        text-align: right;\n",
       "    }\n",
       "</style>\n",
       "<table border=\"1\" class=\"dataframe\">\n",
       "  <thead>\n",
       "    <tr style=\"text-align: right;\">\n",
       "      <th></th>\n",
       "      <th>FILENAME</th>\n",
       "      <th>IDENTITY</th>\n",
       "    </tr>\n",
       "  </thead>\n",
       "  <tbody>\n",
       "    <tr>\n",
       "      <th>0</th>\n",
       "      <td>VALIDATION_0001.jpg</td>\n",
       "      <td>BILEL</td>\n",
       "    </tr>\n",
       "    <tr>\n",
       "      <th>1</th>\n",
       "      <td>VALIDATION_0002.jpg</td>\n",
       "      <td>LAUMIONIER</td>\n",
       "    </tr>\n",
       "    <tr>\n",
       "      <th>2</th>\n",
       "      <td>VALIDATION_0003.jpg</td>\n",
       "      <td>LEA</td>\n",
       "    </tr>\n",
       "    <tr>\n",
       "      <th>3</th>\n",
       "      <td>VALIDATION_0004.jpg</td>\n",
       "      <td>JEAN-ROCH</td>\n",
       "    </tr>\n",
       "    <tr>\n",
       "      <th>4</th>\n",
       "      <td>VALIDATION_0005.jpg</td>\n",
       "      <td>RUPP</td>\n",
       "    </tr>\n",
       "  </tbody>\n",
       "</table>\n",
       "</div>"
      ],
      "text/plain": [
       "              FILENAME    IDENTITY\n",
       "0  VALIDATION_0001.jpg       BILEL\n",
       "1  VALIDATION_0002.jpg  LAUMIONIER\n",
       "2  VALIDATION_0003.jpg         LEA\n",
       "3  VALIDATION_0004.jpg   JEAN-ROCH\n",
       "4  VALIDATION_0005.jpg        RUPP"
      ]
     },
     "execution_count": 66,
     "metadata": {},
     "output_type": "execute_result"
    }
   ],
   "source": [
    "valid_data.head()"
   ]
  },
  {
   "cell_type": "code",
   "execution_count": 69,
   "id": "e417861a",
   "metadata": {},
   "outputs": [
    {
     "data": {
      "text/plain": [
       "(330961, 2)"
      ]
     },
     "execution_count": 69,
     "metadata": {},
     "output_type": "execute_result"
    }
   ],
   "source": [
    "train_data.shape\n"
   ]
  },
  {
   "cell_type": "code",
   "execution_count": 70,
   "id": "996a8bd3",
   "metadata": {},
   "outputs": [
    {
     "data": {
      "text/plain": [
       "(41370, 2)"
      ]
     },
     "execution_count": 70,
     "metadata": {},
     "output_type": "execute_result"
    }
   ],
   "source": [
    "valid_data.shape"
   ]
  },
  {
   "cell_type": "code",
   "execution_count": 72,
   "id": "95263a1f",
   "metadata": {},
   "outputs": [
    {
     "data": {
      "text/plain": [
       "FILENAME          IDENTITY       \n",
       "TRAIN_99999.jpg   DIMITRI            1\n",
       "TRAIN_191178.jpg  DORIAN             1\n",
       "TRAIN_191198.jpg  CHRISTA JOSETTE    1\n",
       "TRAIN_191199.jpg  TILLEMAN           1\n",
       "TRAIN_19120.jpg   LAURI-ANN          1\n",
       "                                    ..\n",
       "TRAIN_291502.jpg  EL MAHJOUBI        1\n",
       "TRAIN_291503.jpg  TEYSSIER           1\n",
       "TRAIN_291504.jpg  LOUNA              1\n",
       "TRAIN_291505.jpg  BOISSIERE          1\n",
       "TRAIN_00001.jpg   BALTHAZAR          1\n",
       "Length: 330396, dtype: int64"
      ]
     },
     "execution_count": 72,
     "metadata": {},
     "output_type": "execute_result"
    }
   ],
   "source": [
    "train_data.value_counts()"
   ]
  },
  {
   "cell_type": "code",
   "execution_count": 73,
   "id": "4a4ce5bf",
   "metadata": {},
   "outputs": [
    {
     "data": {
      "text/plain": [
       "FILENAME              IDENTITY        \n",
       "VALIDATION_9999.jpg   BABIN-PELTIER       1\n",
       "VALIDATION_2165.jpg   ACHILLE             1\n",
       "VALIDATION_2163.jpg   MENDES              1\n",
       "VALIDATION_21629.jpg  XU                  1\n",
       "VALIDATION_21628.jpg  FIGUERES CAUMONT    1\n",
       "                                         ..\n",
       "VALIDATION_34160.jpg  GERARD              1\n",
       "VALIDATION_3416.jpg   NATHAN              1\n",
       "VALIDATION_34159.jpg  VINCENT             1\n",
       "VALIDATION_34158.jpg  GILLES              1\n",
       "VALIDATION_0001.jpg   BILEL               1\n",
       "Length: 41292, dtype: int64"
      ]
     },
     "execution_count": 73,
     "metadata": {},
     "output_type": "execute_result"
    }
   ],
   "source": [
    "valid_data.value_counts()"
   ]
  },
  {
   "cell_type": "code",
   "execution_count": 74,
   "id": "a2781314",
   "metadata": {},
   "outputs": [
    {
     "data": {
      "text/plain": [
       "Index(['FILENAME', 'IDENTITY'], dtype='object')"
      ]
     },
     "execution_count": 74,
     "metadata": {},
     "output_type": "execute_result"
    }
   ],
   "source": [
    "valid_data.columns"
   ]
  },
  {
   "cell_type": "code",
   "execution_count": 75,
   "id": "388d95a2",
   "metadata": {},
   "outputs": [
    {
     "data": {
      "text/plain": [
       "Index(['FILENAME', 'IDENTITY'], dtype='object')"
      ]
     },
     "execution_count": 75,
     "metadata": {},
     "output_type": "execute_result"
    }
   ],
   "source": [
    "train_data.columns"
   ]
  },
  {
   "cell_type": "markdown",
   "id": "94a6a976",
   "metadata": {},
   "source": [
    "## Check and remove nulls"
   ]
  },
  {
   "cell_type": "code",
   "execution_count": 76,
   "id": "f98d7df7",
   "metadata": {},
   "outputs": [
    {
     "data": {
      "text/plain": [
       "FILENAME      0\n",
       "IDENTITY    565\n",
       "dtype: int64"
      ]
     },
     "execution_count": 76,
     "metadata": {},
     "output_type": "execute_result"
    }
   ],
   "source": [
    "train_data.isnull().sum()"
   ]
  },
  {
   "cell_type": "code",
   "execution_count": 77,
   "id": "c56d1527",
   "metadata": {},
   "outputs": [
    {
     "data": {
      "text/plain": [
       "FILENAME     0\n",
       "IDENTITY    78\n",
       "dtype: int64"
      ]
     },
     "execution_count": 77,
     "metadata": {},
     "output_type": "execute_result"
    }
   ],
   "source": [
    "valid_data.isnull().sum()"
   ]
  },
  {
   "cell_type": "code",
   "execution_count": 78,
   "id": "a9a588e3",
   "metadata": {},
   "outputs": [],
   "source": [
    "train_data=train_data.dropna()"
   ]
  },
  {
   "cell_type": "code",
   "execution_count": 79,
   "id": "d05dbe17",
   "metadata": {},
   "outputs": [],
   "source": [
    "valid_data=valid_data.dropna()"
   ]
  },
  {
   "cell_type": "code",
   "execution_count": 80,
   "id": "bc200bbd",
   "metadata": {},
   "outputs": [
    {
     "data": {
      "text/plain": [
       "FILENAME    0\n",
       "IDENTITY    0\n",
       "dtype: int64"
      ]
     },
     "execution_count": 80,
     "metadata": {},
     "output_type": "execute_result"
    }
   ],
   "source": [
    "train_data.isnull().sum()"
   ]
  },
  {
   "cell_type": "code",
   "execution_count": 81,
   "id": "607fd62a",
   "metadata": {},
   "outputs": [
    {
     "data": {
      "text/plain": [
       "FILENAME    0\n",
       "IDENTITY    0\n",
       "dtype: int64"
      ]
     },
     "execution_count": 81,
     "metadata": {},
     "output_type": "execute_result"
    }
   ],
   "source": [
    "valid_data.isnull().sum()"
   ]
  },
  {
   "cell_type": "markdown",
   "id": "8521da22",
   "metadata": {},
   "source": [
    "## What do the files look like?"
   ]
  },
  {
   "cell_type": "code",
   "execution_count": 8,
   "id": "46882705",
   "metadata": {},
   "outputs": [],
   "source": [
    "train=train_data\n",
    "valid=valid_data"
   ]
  },
  {
   "cell_type": "code",
   "execution_count": 9,
   "id": "2ace0b20",
   "metadata": {},
   "outputs": [],
   "source": [
    "def drawTheImg(plt, img_dir):\n",
    " image = cv2.imread(img_dir, cv2.IMREAD_GRAYSCALE)\n",
    " plt.imshow(image, cmap = 'gray')\n",
    " plt.title(train.loc[i, 'IDENTITY'], fontsize=12)\n",
    " plt.axis('off')"
   ]
  },
  {
   "cell_type": "code",
   "execution_count": 10,
   "id": "7118945e",
   "metadata": {},
   "outputs": [
    {
     "data": {
      "image/png": "[encoded data removed]",
      "text/plain": [
       "<Figure size 1080x720 with 6 Axes>"
      ]
     },
     "metadata": {
      "needs_background": "light"
     },
     "output_type": "display_data"
    }
   ],
   "source": [
    "plt.figure(figsize=(15, 10))\n",
    "\n",
    "for i in range(6):\n",
    "    ax = plt.subplot(2, 3, i+1)\n",
    "    img_dir = '../images/train/' + train.loc[i,'FILENAME']\n",
    "    drawTheImg(plt, img_dir)\n",
    "    \n",
    "plt.subplots_adjust(wspace=0.2, hspace=-0.8)"
   ]
  },
  {
   "cell_type": "markdown",
   "id": "ec450994",
   "metadata": {},
   "source": [
    "## Some names are unreadable - remove them"
   ]
  },
  {
   "cell_type": "code",
   "execution_count": 11,
   "id": "d8f21553",
   "metadata": {},
   "outputs": [
    {
     "data": {
      "image/png": "[encoded data removed]",
      "text/plain": [
       "<Figure size 1080x720 with 6 Axes>"
      ]
     },
     "metadata": {
      "needs_background": "light"
     },
     "output_type": "display_data"
    }
   ],
   "source": [
    "unreadable = train[train['IDENTITY'] == 'UNREADABLE']\n",
    "unreadable.reset_index(inplace = True, drop=True)\n",
    "\n",
    "plt.figure(figsize=(15, 10))\n",
    "\n",
    "for i in range(6):\n",
    "    ax = plt.subplot(2, 3, i+1)\n",
    "    img_dir = '../images/train/'+ unreadable.loc[i, 'FILENAME']\n",
    "    drawTheImg(plt, img_dir)\n",
    "\n",
    "plt.subplots_adjust(wspace=0.2, hspace=-0.8)"
   ]
  },
  {
   "cell_type": "code",
   "execution_count": 12,
   "id": "961a7a0f",
   "metadata": {},
   "outputs": [],
   "source": [
    "train = train[train['IDENTITY'] != 'UNREADABLE']\n",
    "valid = valid[valid['IDENTITY'] != 'UNREADABLE']"
   ]
  },
  {
   "cell_type": "markdown",
   "id": "873ac38c",
   "metadata": {},
   "source": [
    "## Convert all labels to uppercase"
   ]
  },
  {
   "cell_type": "code",
   "execution_count": 13,
   "id": "c52586f1",
   "metadata": {},
   "outputs": [],
   "source": [
    "train['IDENTITY'] = train['IDENTITY'].str.upper()\n",
    "valid['IDENTITY'] = valid['IDENTITY'].str.upper()"
   ]
  },
  {
   "cell_type": "markdown",
   "id": "f7488e9e",
   "metadata": {},
   "source": [
    "## Reset Indexes, after cleaning"
   ]
  },
  {
   "cell_type": "code",
   "execution_count": 14,
   "id": "a3afbe13",
   "metadata": {},
   "outputs": [],
   "source": [
    "train.reset_index(inplace = True, drop=True) \n",
    "valid.reset_index(inplace = True, drop=True)"
   ]
  },
  {
   "cell_type": "code",
   "execution_count": 82,
   "id": "949e441f",
   "metadata": {},
   "outputs": [
    {
     "data": {
      "text/html": [
       "<div>\n",
       "<style scoped>\n",
       "    .dataframe tbody tr th:only-of-type {\n",
       "        vertical-align: middle;\n",
       "    }\n",
       "\n",
       "    .dataframe tbody tr th {\n",
       "        vertical-align: top;\n",
       "    }\n",
       "\n",
       "    .dataframe thead th {\n",
       "        text-align: right;\n",
       "    }\n",
       "</style>\n",
       "<table border=\"1\" class=\"dataframe\">\n",
       "  <thead>\n",
       "    <tr style=\"text-align: right;\">\n",
       "      <th></th>\n",
       "      <th>FILENAME</th>\n",
       "      <th>IDENTITY</th>\n",
       "    </tr>\n",
       "  </thead>\n",
       "  <tbody>\n",
       "    <tr>\n",
       "      <th>0</th>\n",
       "      <td>TRAIN_00001.jpg</td>\n",
       "      <td>BALTHAZAR</td>\n",
       "    </tr>\n",
       "    <tr>\n",
       "      <th>1</th>\n",
       "      <td>TRAIN_00002.jpg</td>\n",
       "      <td>SIMON</td>\n",
       "    </tr>\n",
       "    <tr>\n",
       "      <th>2</th>\n",
       "      <td>TRAIN_00003.jpg</td>\n",
       "      <td>BENES</td>\n",
       "    </tr>\n",
       "    <tr>\n",
       "      <th>3</th>\n",
       "      <td>TRAIN_00004.jpg</td>\n",
       "      <td>LA LOVE</td>\n",
       "    </tr>\n",
       "    <tr>\n",
       "      <th>4</th>\n",
       "      <td>TRAIN_00005.jpg</td>\n",
       "      <td>DAPHNE</td>\n",
       "    </tr>\n",
       "  </tbody>\n",
       "</table>\n",
       "</div>"
      ],
      "text/plain": [
       "          FILENAME   IDENTITY\n",
       "0  TRAIN_00001.jpg  BALTHAZAR\n",
       "1  TRAIN_00002.jpg      SIMON\n",
       "2  TRAIN_00003.jpg      BENES\n",
       "3  TRAIN_00004.jpg    LA LOVE\n",
       "4  TRAIN_00005.jpg     DAPHNE"
      ]
     },
     "execution_count": 82,
     "metadata": {},
     "output_type": "execute_result"
    }
   ],
   "source": [
    "train.head()"
   ]
  },
  {
   "cell_type": "markdown",
   "id": "e9f9407c",
   "metadata": {},
   "source": [
    "## Preprocessing and preparing images for training"
   ]
  },
  {
   "cell_type": "code",
   "execution_count": 15,
   "id": "3b33a12b",
   "metadata": {},
   "outputs": [],
   "source": [
    "def preprocess(img):\n",
    "    (h, w) = img.shape\n",
    "    \n",
    "    final_img = np.ones([64, 256])*255 # blank white image\n",
    "    \n",
    "    # crop\n",
    "    if w > 256:\n",
    "        img = img[:, :256]\n",
    "        \n",
    "    if h > 64:\n",
    "        img = img[:64, :]\n",
    "    \n",
    "    \n",
    "    final_img[:h, :w] = img\n",
    "    return cv2.rotate(final_img, cv2.ROTATE_90_CLOCKWISE)"
   ]
  },
  {
   "cell_type": "code",
   "execution_count": 16,
   "id": "f3bf15b1",
   "metadata": {},
   "outputs": [],
   "source": [
    "train_size = 30000\n",
    "valid_size= 3000"
   ]
  },
  {
   "cell_type": "code",
   "execution_count": 17,
   "id": "0d6b8c13",
   "metadata": {},
   "outputs": [],
   "source": [
    "train_x = []\n",
    "\n",
    "for i in range(train_size):\n",
    "    img_dir = '../images/train/' + train.loc[i, 'FILENAME']\n",
    "    image = cv2.imread(img_dir, cv2.IMREAD_GRAYSCALE)\n",
    "    image = preprocess(image)\n",
    "    image = image/255.\n",
    "    train_x.append(image)"
   ]
  },
  {
   "cell_type": "code",
   "execution_count": 18,
   "id": "2a5768ab",
   "metadata": {},
   "outputs": [],
   "source": [
    "valid_x = []\n",
    "\n",
    "for i in range(valid_size):\n",
    "    img_dir = '../images/validation/' + valid.loc[i, 'FILENAME']\n",
    "    image = cv2.imread(img_dir, cv2.IMREAD_GRAYSCALE)\n",
    "    image = preprocess(image)\n",
    "    image = image/255.\n",
    "    valid_x.append(image)"
   ]
  },
  {
   "cell_type": "markdown",
   "id": "e4d971dd",
   "metadata": {},
   "source": [
    "## CTC Prep"
   ]
  },
  {
   "cell_type": "code",
   "execution_count": 19,
   "id": "9265b922",
   "metadata": {},
   "outputs": [],
   "source": [
    "train_x = np.array(train_x).reshape(-1, 256, 64, 1)\n",
    "valid_x = np.array(valid_x).reshape(-1, 256, 64, 1)"
   ]
  },
  {
   "cell_type": "code",
   "execution_count": 20,
   "id": "978fdde5",
   "metadata": {},
   "outputs": [],
   "source": [
    "alphabets = u\"ABCDEFGHIJKLMNOPQRSTUVWXYZ-' \"\n",
    "max_str_len = 24 # max length of input labels\n",
    "num_of_characters = len(alphabets) + 1 # +1 for ctc pseudo blank\n",
    "num_of_timestamps = 64 # max length of predicted labels\n",
    "\n",
    "\n",
    "def label_to_num(label):\n",
    "    label_num = []\n",
    "    for ch in label:\n",
    "        label_num.append(alphabets.find(ch))\n",
    "        \n",
    "    return np.array(label_num)\n",
    "\n",
    "def num_to_label(num):\n",
    "    ret = \"\"\n",
    "    for ch in num:\n",
    "        if ch == -1:  # CTC Blank\n",
    "            break\n",
    "        else:\n",
    "            ret+=alphabets[ch]\n",
    "    return ret"
   ]
  },
  {
   "cell_type": "code",
   "execution_count": 21,
   "id": "c1c4560b",
   "metadata": {},
   "outputs": [
    {
     "name": "stdout",
     "output_type": "stream",
     "text": [
      "MARYANNE \n",
      " [12  0 17 24  0 13 13  4]\n"
     ]
    }
   ],
   "source": [
    "name = 'MARYANNE'\n",
    "print(name, '\\n',label_to_num(name))"
   ]
  },
  {
   "cell_type": "markdown",
   "id": "6cab3dde",
   "metadata": {},
   "source": [
    "* train_y contains the true labels converted to numbers and padded with -1. The length of each label is equal to max_str_len.\n",
    "* train_label_len contains the length of each true label (without padding)\n",
    "* train_input_len contains the length of each predicted label. The length of all the predicted labels is constant i.e number of timestamps - 2.\n",
    "* train_output is a dummy output for ctc loss."
   ]
  },
  {
   "cell_type": "code",
   "execution_count": 22,
   "id": "353f1a4c",
   "metadata": {},
   "outputs": [],
   "source": [
    "train_y = np.ones([train_size, max_str_len]) * -1\n",
    "train_label_len = np.zeros([train_size, 1])\n",
    "train_input_len = np.ones([train_size, 1]) * (num_of_timestamps-2)\n",
    "train_output = np.zeros([train_size])\n",
    "\n",
    "for i in range(train_size):\n",
    "    train_label_len[i] = len(train.loc[i, 'IDENTITY'])\n",
    "    train_y[i, 0:len(train.loc[i, 'IDENTITY'])]= label_to_num(train.loc[i, 'IDENTITY'])  "
   ]
  },
  {
   "cell_type": "code",
   "execution_count": 23,
   "id": "938129ac",
   "metadata": {},
   "outputs": [],
   "source": [
    "valid_y = np.ones([valid_size, max_str_len]) * -1\n",
    "valid_label_len = np.zeros([valid_size, 1])\n",
    "valid_input_len = np.ones([valid_size, 1]) * (num_of_timestamps-2)\n",
    "valid_output = np.zeros([valid_size])\n",
    "\n",
    "for i in range(valid_size):\n",
    "    valid_label_len[i] = len(valid.loc[i, 'IDENTITY'])\n",
    "    valid_y[i, 0:len(valid.loc[i, 'IDENTITY'])]= label_to_num(valid.loc[i, 'IDENTITY'])    "
   ]
  },
  {
   "cell_type": "code",
   "execution_count": 24,
   "id": "d87948c8",
   "metadata": {},
   "outputs": [
    {
     "name": "stdout",
     "output_type": "stream",
     "text": [
      "True label :  NOUR \n",
      "train_y :  [13. 14. 20. 17. -1. -1. -1. -1. -1. -1. -1. -1. -1. -1. -1. -1. -1. -1.\n",
      " -1. -1. -1. -1. -1. -1.] \n",
      "train_label_len :  [4.] \n",
      "train_input_len :  [62.]\n"
     ]
    }
   ],
   "source": [
    "print('True label : ',train.loc[100, 'IDENTITY'] , '\\ntrain_y : ',train_y[100],'\\ntrain_label_len : ',train_label_len[100], \n",
    "      '\\ntrain_input_len : ', train_input_len[100])"
   ]
  },
  {
   "cell_type": "code",
   "execution_count": 25,
   "id": "e0ca5a8f",
   "metadata": {},
   "outputs": [],
   "source": [
    "import tensorflow as tf\n",
    "from keras import backend as K\n",
    "from keras.models import Model\n",
    "from keras.layers import Input, Conv2D, MaxPooling2D, Reshape, Bidirectional, LSTM, Dense, Lambda, Activation, BatchNormalization, Dropout\n",
    "from keras.optimizers import adam_v2"
   ]
  },
  {
   "cell_type": "code",
   "execution_count": 26,
   "id": "d84e9ef2",
   "metadata": {},
   "outputs": [
    {
     "name": "stderr",
     "output_type": "stream",
     "text": [
      "2022-07-22 01:44:00.248903: I tensorflow/core/platform/cpu_feature_guard.cc:193] This TensorFlow binary is optimized with oneAPI Deep Neural Network Library (oneDNN) to use the following CPU instructions in performance-critical operations:  SSE4.1 SSE4.2 AVX AVX2 FMA\n",
      "To enable them in other operations, rebuild TensorFlow with the appropriate compiler flags.\n"
     ]
    },
    {
     "name": "stdout",
     "output_type": "stream",
     "text": [
      "Model: \"model\"\n",
      "_________________________________________________________________\n",
      " Layer (type)                Output Shape              Param #   \n",
      "=================================================================\n",
      " input (InputLayer)          [(None, 256, 64, 1)]      0         \n",
      "                                                                 \n",
      " conv1 (Conv2D)              (None, 256, 64, 32)       320       \n",
      "                                                                 \n",
      " batch_normalization (BatchN  (None, 256, 64, 32)      128       \n",
      " ormalization)                                                   \n",
      "                                                                 \n",
      " activation (Activation)     (None, 256, 64, 32)       0         \n",
      "                                                                 \n",
      " max1 (MaxPooling2D)         (None, 128, 32, 32)       0         \n",
      "                                                                 \n",
      " conv2 (Conv2D)              (None, 128, 32, 64)       18496     \n",
      "                                                                 \n",
      " batch_normalization_1 (Batc  (None, 128, 32, 64)      256       \n",
      " hNormalization)                                                 \n",
      "                                                                 \n",
      " activation_1 (Activation)   (None, 128, 32, 64)       0         \n",
      "                                                                 \n",
      " max2 (MaxPooling2D)         (None, 64, 16, 64)        0         \n",
      "                                                                 \n",
      " dropout (Dropout)           (None, 64, 16, 64)        0         \n",
      "                                                                 \n",
      " conv3 (Conv2D)              (None, 64, 16, 128)       73856     \n",
      "                                                                 \n",
      " batch_normalization_2 (Batc  (None, 64, 16, 128)      512       \n",
      " hNormalization)                                                 \n",
      "                                                                 \n",
      " activation_2 (Activation)   (None, 64, 16, 128)       0         \n",
      "                                                                 \n",
      " max3 (MaxPooling2D)         (None, 64, 8, 128)        0         \n",
      "                                                                 \n",
      " dropout_1 (Dropout)         (None, 64, 8, 128)        0         \n",
      "                                                                 \n",
      " reshape (Reshape)           (None, 64, 1024)          0         \n",
      "                                                                 \n",
      " dense1 (Dense)              (None, 64, 64)            65600     \n",
      "                                                                 \n",
      " lstm1 (Bidirectional)       (None, 64, 512)           657408    \n",
      "                                                                 \n",
      " lstm2 (Bidirectional)       (None, 64, 512)           1574912   \n",
      "                                                                 \n",
      " dense2 (Dense)              (None, 64, 30)            15390     \n",
      "                                                                 \n",
      " softmax (Activation)        (None, 64, 30)            0         \n",
      "                                                                 \n",
      "=================================================================\n",
      "Total params: 2,406,878\n",
      "Trainable params: 2,406,430\n",
      "Non-trainable params: 448\n",
      "_________________________________________________________________\n"
     ]
    }
   ],
   "source": [
    "input_data = Input(shape=(256, 64, 1), name='input')\n",
    "\n",
    "inner = Conv2D(32, (3, 3), padding='same', name='conv1', kernel_initializer='he_normal')(input_data)  \n",
    "inner = BatchNormalization()(inner)\n",
    "inner = Activation('relu')(inner)\n",
    "inner = MaxPooling2D(pool_size=(2, 2), name='max1')(inner)\n",
    "\n",
    "inner = Conv2D(64, (3, 3), padding='same', name='conv2', kernel_initializer='he_normal')(inner)\n",
    "inner = BatchNormalization()(inner)\n",
    "inner = Activation('relu')(inner)\n",
    "inner = MaxPooling2D(pool_size=(2, 2), name='max2')(inner)\n",
    "inner = Dropout(0.3)(inner)\n",
    "\n",
    "inner = Conv2D(128, (3, 3), padding='same', name='conv3', kernel_initializer='he_normal')(inner)\n",
    "inner = BatchNormalization()(inner)\n",
    "inner = Activation('relu')(inner)\n",
    "inner = MaxPooling2D(pool_size=(1, 2), name='max3')(inner)\n",
    "inner = Dropout(0.3)(inner)\n",
    "\n",
    "# CNN to RNN\n",
    "inner = Reshape(target_shape=((64, 1024)), name='reshape')(inner)\n",
    "inner = Dense(64, activation='relu', kernel_initializer='he_normal', name='dense1')(inner)\n",
    "\n",
    "## RNN\n",
    "inner = Bidirectional(LSTM(256, return_sequences=True), name = 'lstm1')(inner)\n",
    "inner = Bidirectional(LSTM(256, return_sequences=True), name = 'lstm2')(inner)\n",
    "\n",
    "## OUTPUT\n",
    "inner = Dense(num_of_characters, kernel_initializer='he_normal',name='dense2')(inner)\n",
    "y_pred = Activation('softmax', name='softmax')(inner)\n",
    "\n",
    "model = Model(inputs=input_data, outputs=y_pred)\n",
    "model.summary()"
   ]
  },
  {
   "cell_type": "code",
   "execution_count": 58,
   "id": "66e13b2f",
   "metadata": {},
   "outputs": [
    {
     "data": {
      "text/plain": [
       "[<keras.engine.input_layer.InputLayer at 0x7f98f0078130>,\n",
       " <keras.layers.convolutional.conv2d.Conv2D at 0x7f98f0078400>,\n",
       " <keras.layers.normalization.batch_normalization.BatchNormalization at 0x7f9869f5ff70>,\n",
       " <keras.layers.core.activation.Activation at 0x7f9a1818fc70>,\n",
       " <keras.layers.pooling.max_pooling2d.MaxPooling2D at 0x7f9869f40370>,\n",
       " <keras.layers.convolutional.conv2d.Conv2D at 0x7f98995e59d0>,\n",
       " <keras.layers.normalization.batch_normalization.BatchNormalization at 0x7f9869efdee0>,\n",
       " <keras.layers.core.activation.Activation at 0x7f9869f3a580>,\n",
       " <keras.layers.pooling.max_pooling2d.MaxPooling2D at 0x7f99e206c6a0>,\n",
       " <keras.layers.regularization.dropout.Dropout at 0x7f9869faa550>,\n",
       " <keras.layers.convolutional.conv2d.Conv2D at 0x7f9a183c9a90>,\n",
       " <keras.layers.normalization.batch_normalization.BatchNormalization at 0x7f9869f61340>,\n",
       " <keras.layers.core.activation.Activation at 0x7f9a183c92e0>,\n",
       " <keras.layers.pooling.max_pooling2d.MaxPooling2D at 0x7f9869f5f910>,\n",
       " <keras.layers.regularization.dropout.Dropout at 0x7f9a183d3eb0>,\n",
       " <keras.layers.reshaping.reshape.Reshape at 0x7f9a183d0040>,\n",
       " <keras.layers.core.dense.Dense at 0x7f9a183dff40>,\n",
       " <keras.layers.rnn.bidirectional.Bidirectional at 0x7f9a1848d760>,\n",
       " <keras.layers.rnn.bidirectional.Bidirectional at 0x7f98998dcc10>,\n",
       " <keras.layers.core.dense.Dense at 0x7f9a183e3a00>,\n",
       " <keras.layers.core.activation.Activation at 0x7f98ab1a0b20>]"
      ]
     },
     "execution_count": 58,
     "metadata": {},
     "output_type": "execute_result"
    }
   ],
   "source": [
    "model.layers"
   ]
  },
  {
   "cell_type": "code",
   "execution_count": 27,
   "id": "261b8a28",
   "metadata": {},
   "outputs": [],
   "source": [
    "# the ctc loss function\n",
    "def ctc_lambda_func(args):\n",
    "    y_pred, labels, input_length, label_length = args\n",
    "    # the 2 is critical here since the first couple outputs of the RNN\n",
    "    # tend to be garbage\n",
    "    y_pred = y_pred[:, 2:, :]\n",
    "    return K.ctc_batch_cost(labels, y_pred, input_length, label_length)"
   ]
  },
  {
   "cell_type": "code",
   "execution_count": 28,
   "id": "80cb607a",
   "metadata": {},
   "outputs": [],
   "source": [
    "labels = Input(name='gtruth_labels', shape=[max_str_len], dtype='float32')\n",
    "input_length = Input(name='input_length', shape=[1], dtype='int64')\n",
    "label_length = Input(name='label_length', shape=[1], dtype='int64')\n",
    "\n",
    "ctc_loss = Lambda(ctc_lambda_func, output_shape=(1,), name='ctc')([y_pred, labels, input_length, label_length])\n",
    "model_final = Model(inputs=[input_data, labels, input_length, label_length], outputs=ctc_loss)"
   ]
  },
  {
   "cell_type": "code",
   "execution_count": 59,
   "id": "d6b49c4f",
   "metadata": {},
   "outputs": [
    {
     "name": "stdout",
     "output_type": "stream",
     "text": [
      "Model: \"model_1\"\n",
      "__________________________________________________________________________________________________\n",
      " Layer (type)                   Output Shape         Param #     Connected to                     \n",
      "==================================================================================================\n",
      " input (InputLayer)             [(None, 256, 64, 1)  0           []                               \n",
      "                                ]                                                                 \n",
      "                                                                                                  \n",
      " conv1 (Conv2D)                 (None, 256, 64, 32)  320         ['input[0][0]']                  \n",
      "                                                                                                  \n",
      " batch_normalization (BatchNorm  (None, 256, 64, 32)  128        ['conv1[0][0]']                  \n",
      " alization)                                                                                       \n",
      "                                                                                                  \n",
      " activation (Activation)        (None, 256, 64, 32)  0           ['batch_normalization[0][0]']    \n",
      "                                                                                                  \n",
      " max1 (MaxPooling2D)            (None, 128, 32, 32)  0           ['activation[0][0]']             \n",
      "                                                                                                  \n",
      " conv2 (Conv2D)                 (None, 128, 32, 64)  18496       ['max1[0][0]']                   \n",
      "                                                                                                  \n",
      " batch_normalization_1 (BatchNo  (None, 128, 32, 64)  256        ['conv2[0][0]']                  \n",
      " rmalization)                                                                                     \n",
      "                                                                                                  \n",
      " activation_1 (Activation)      (None, 128, 32, 64)  0           ['batch_normalization_1[0][0]']  \n",
      "                                                                                                  \n",
      " max2 (MaxPooling2D)            (None, 64, 16, 64)   0           ['activation_1[0][0]']           \n",
      "                                                                                                  \n",
      " dropout (Dropout)              (None, 64, 16, 64)   0           ['max2[0][0]']                   \n",
      "                                                                                                  \n",
      " conv3 (Conv2D)                 (None, 64, 16, 128)  73856       ['dropout[0][0]']                \n",
      "                                                                                                  \n",
      " batch_normalization_2 (BatchNo  (None, 64, 16, 128)  512        ['conv3[0][0]']                  \n",
      " rmalization)                                                                                     \n",
      "                                                                                                  \n",
      " activation_2 (Activation)      (None, 64, 16, 128)  0           ['batch_normalization_2[0][0]']  \n",
      "                                                                                                  \n",
      " max3 (MaxPooling2D)            (None, 64, 8, 128)   0           ['activation_2[0][0]']           \n",
      "                                                                                                  \n",
      " dropout_1 (Dropout)            (None, 64, 8, 128)   0           ['max3[0][0]']                   \n",
      "                                                                                                  \n",
      " reshape (Reshape)              (None, 64, 1024)     0           ['dropout_1[0][0]']              \n",
      "                                                                                                  \n",
      " dense1 (Dense)                 (None, 64, 64)       65600       ['reshape[0][0]']                \n",
      "                                                                                                  \n",
      " lstm1 (Bidirectional)          (None, 64, 512)      657408      ['dense1[0][0]']                 \n",
      "                                                                                                  \n",
      " lstm2 (Bidirectional)          (None, 64, 512)      1574912     ['lstm1[0][0]']                  \n",
      "                                                                                                  \n",
      " dense2 (Dense)                 (None, 64, 30)       15390       ['lstm2[0][0]']                  \n",
      "                                                                                                  \n",
      " softmax (Activation)           (None, 64, 30)       0           ['dense2[0][0]']                 \n",
      "                                                                                                  \n",
      " gtruth_labels (InputLayer)     [(None, 24)]         0           []                               \n",
      "                                                                                                  \n",
      " input_length (InputLayer)      [(None, 1)]          0           []                               \n",
      "                                                                                                  \n",
      " label_length (InputLayer)      [(None, 1)]          0           []                               \n",
      "                                                                                                  \n",
      " ctc (Lambda)                   (None, 1)            0           ['softmax[0][0]',                \n",
      "                                                                  'gtruth_labels[0][0]',          \n",
      "                                                                  'input_length[0][0]',           \n",
      "                                                                  'label_length[0][0]']           \n",
      "                                                                                                  \n",
      "==================================================================================================\n",
      "Total params: 2,406,878\n",
      "Trainable params: 2,406,430\n",
      "Non-trainable params: 448\n",
      "__________________________________________________________________________________________________\n"
     ]
    }
   ],
   "source": [
    "model_final.summary()"
   ]
  },
  {
   "cell_type": "markdown",
   "id": "7e1bea7b",
   "metadata": {},
   "source": [
    "## Train the model"
   ]
  },
  {
   "cell_type": "code",
   "execution_count": 30,
   "id": "237d8b18",
   "metadata": {},
   "outputs": [
    {
     "name": "stdout",
     "output_type": "stream",
     "text": [
      "Epoch 1/60\n",
      "235/235 [==============================] - 600s 3s/step - loss: 20.2384 - val_loss: 20.4386\n",
      "Epoch 2/60\n",
      "235/235 [==============================] - 599s 3s/step - loss: 19.1253 - val_loss: 19.1226\n",
      "Epoch 3/60\n",
      "235/235 [==============================] - 575s 2s/step - loss: 17.3060 - val_loss: 16.7252\n",
      "Epoch 4/60\n",
      "235/235 [==============================] - 552s 2s/step - loss: 14.8084 - val_loss: 16.9183\n",
      "Epoch 5/60\n",
      "235/235 [==============================] - 556s 2s/step - loss: 12.0625 - val_loss: 15.0287\n",
      "Epoch 6/60\n",
      "235/235 [==============================] - 553s 2s/step - loss: 9.5791 - val_loss: 13.5115\n",
      "Epoch 7/60\n",
      "235/235 [==============================] - 558s 2s/step - loss: 7.4357 - val_loss: 9.4244\n",
      "Epoch 8/60\n",
      "235/235 [==============================] - 553s 2s/step - loss: 6.0946 - val_loss: 5.8128\n",
      "Epoch 9/60\n",
      "235/235 [==============================] - 558s 2s/step - loss: 5.2619 - val_loss: 4.5532\n",
      "Epoch 10/60\n",
      "235/235 [==============================] - 565s 2s/step - loss: 4.7055 - val_loss: 4.2529\n",
      "Epoch 11/60\n",
      "235/235 [==============================] - 556s 2s/step - loss: 4.2809 - val_loss: 3.9006\n",
      "Epoch 12/60\n",
      "235/235 [==============================] - 559s 2s/step - loss: 3.9799 - val_loss: 3.5490\n",
      "Epoch 13/60\n",
      "235/235 [==============================] - 557s 2s/step - loss: 3.6989 - val_loss: 3.3346\n",
      "Epoch 14/60\n",
      "235/235 [==============================] - 560s 2s/step - loss: 3.4876 - val_loss: 3.1554\n",
      "Epoch 15/60\n",
      "235/235 [==============================] - 559s 2s/step - loss: 3.2900 - val_loss: 3.1732\n",
      "Epoch 16/60\n",
      "235/235 [==============================] - 560s 2s/step - loss: 3.1279 - val_loss: 2.8888\n",
      "Epoch 17/60\n",
      "235/235 [==============================] - 564s 2s/step - loss: 2.9931 - val_loss: 2.7962\n",
      "Epoch 18/60\n",
      "235/235 [==============================] - 560s 2s/step - loss: 2.8573 - val_loss: 2.7867\n",
      "Epoch 19/60\n",
      "235/235 [==============================] - 564s 2s/step - loss: 2.7655 - val_loss: 2.6307\n",
      "Epoch 20/60\n",
      "235/235 [==============================] - 560s 2s/step - loss: 2.6490 - val_loss: 2.6151\n",
      "Epoch 21/60\n",
      "235/235 [==============================] - 561s 2s/step - loss: 2.5639 - val_loss: 2.5048\n",
      "Epoch 22/60\n",
      "235/235 [==============================] - 560s 2s/step - loss: 2.4858 - val_loss: 2.4331\n",
      "Epoch 23/60\n",
      "235/235 [==============================] - 558s 2s/step - loss: 2.4083 - val_loss: 2.3882\n",
      "Epoch 24/60\n",
      "235/235 [==============================] - 566s 2s/step - loss: 2.3327 - val_loss: 2.3330\n",
      "Epoch 25/60\n",
      "235/235 [==============================] - 560s 2s/step - loss: 2.2602 - val_loss: 2.3572\n",
      "Epoch 26/60\n",
      "235/235 [==============================] - 562s 2s/step - loss: 2.2092 - val_loss: 2.4221\n",
      "Epoch 27/60\n",
      "235/235 [==============================] - 566s 2s/step - loss: 2.1457 - val_loss: 2.2661\n",
      "Epoch 28/60\n",
      "235/235 [==============================] - 564s 2s/step - loss: 2.0980 - val_loss: 2.2308\n",
      "Epoch 29/60\n",
      "235/235 [==============================] - 570s 2s/step - loss: 2.0416 - val_loss: 2.2056\n",
      "Epoch 30/60\n",
      "235/235 [==============================] - 567s 2s/step - loss: 1.9891 - val_loss: 2.2044\n",
      "Epoch 31/60\n",
      "235/235 [==============================] - 562s 2s/step - loss: 1.9345 - val_loss: 2.2331\n",
      "Epoch 32/60\n",
      "235/235 [==============================] - 566s 2s/step - loss: 1.9124 - val_loss: 2.1865\n",
      "Epoch 33/60\n",
      "235/235 [==============================] - 563s 2s/step - loss: 1.8687 - val_loss: 2.1588\n",
      "Epoch 34/60\n",
      "235/235 [==============================] - 567s 2s/step - loss: 1.8101 - val_loss: 2.1662\n",
      "Epoch 35/60\n",
      "235/235 [==============================] - 566s 2s/step - loss: 1.7694 - val_loss: 2.1365\n",
      "Epoch 36/60\n",
      "235/235 [==============================] - 564s 2s/step - loss: 1.7475 - val_loss: 2.1261\n",
      "Epoch 37/60\n",
      "235/235 [==============================] - 581s 2s/step - loss: 1.6993 - val_loss: 2.1594\n",
      "Epoch 38/60\n",
      "235/235 [==============================] - 586s 2s/step - loss: 1.6690 - val_loss: 2.1011\n",
      "Epoch 39/60\n",
      "235/235 [==============================] - 779s 3s/step - loss: 1.6332 - val_loss: 2.0604\n",
      "Epoch 40/60\n",
      "235/235 [==============================] - 1026s 4s/step - loss: 1.6033 - val_loss: 2.0795\n",
      "Epoch 41/60\n",
      "235/235 [==============================] - 1036s 4s/step - loss: 1.5613 - val_loss: 2.1340\n",
      "Epoch 42/60\n",
      "235/235 [==============================] - 774s 3s/step - loss: 1.5446 - val_loss: 2.0702\n",
      "Epoch 43/60\n",
      "235/235 [==============================] - 635s 3s/step - loss: 1.5026 - val_loss: 2.1163\n",
      "Epoch 44/60\n",
      "235/235 [==============================] - 626s 3s/step - loss: 1.4757 - val_loss: 2.0857\n",
      "Epoch 45/60\n",
      "235/235 [==============================] - 624s 3s/step - loss: 1.4318 - val_loss: 2.0753\n",
      "Epoch 46/60\n",
      "235/235 [==============================] - 647s 3s/step - loss: 1.4093 - val_loss: 2.0426\n",
      "Epoch 47/60\n",
      "235/235 [==============================] - 660s 3s/step - loss: 1.3742 - val_loss: 2.0523\n",
      "Epoch 48/60\n",
      "235/235 [==============================] - 682s 3s/step - loss: 1.3490 - val_loss: 2.0960\n",
      "Epoch 49/60\n",
      "235/235 [==============================] - 731s 3s/step - loss: 1.3303 - val_loss: 2.0669\n",
      "Epoch 50/60\n",
      "235/235 [==============================] - 687s 3s/step - loss: 1.2913 - val_loss: 2.0529\n",
      "Epoch 51/60\n",
      "235/235 [==============================] - 695s 3s/step - loss: 1.2592 - val_loss: 2.0772\n",
      "Epoch 52/60\n",
      "235/235 [==============================] - 705s 3s/step - loss: 1.2295 - val_loss: 2.1009\n",
      "Epoch 53/60\n",
      "235/235 [==============================] - 681s 3s/step - loss: 1.2076 - val_loss: 2.0664\n",
      "Epoch 54/60\n",
      "235/235 [==============================] - 640s 3s/step - loss: 1.1890 - val_loss: 2.0714\n",
      "Epoch 55/60\n",
      "235/235 [==============================] - 629s 3s/step - loss: 1.1618 - val_loss: 2.0879\n",
      "Epoch 56/60\n",
      "235/235 [==============================] - 618s 3s/step - loss: 1.1380 - val_loss: 2.0930\n",
      "Epoch 57/60\n",
      "235/235 [==============================] - 633s 3s/step - loss: 1.1108 - val_loss: 2.0967\n",
      "Epoch 58/60\n",
      "235/235 [==============================] - 658s 3s/step - loss: 1.0870 - val_loss: 2.1122\n",
      "Epoch 59/60\n",
      "235/235 [==============================] - 692s 3s/step - loss: 1.0465 - val_loss: 2.1534\n",
      "Epoch 60/60\n",
      "235/235 [==============================] - 707s 3s/step - loss: 1.0253 - val_loss: 2.0877\n"
     ]
    },
    {
     "data": {
      "text/plain": [
       "<keras.callbacks.History at 0x7f986a2abe20>"
      ]
     },
     "execution_count": 30,
     "metadata": {},
     "output_type": "execute_result"
    }
   ],
   "source": [
    "# the loss calculation occurs elsewhere, so we use a dummy lambda function for the loss\n",
    "model_final.compile(loss={'ctc': lambda y_true, y_pred: y_pred}, optimizer=adam_v2.Adam(lr = 0.0001))\n",
    "\n",
    "model_final.fit(x=[train_x, train_y, train_input_len, train_label_len], y=train_output, \n",
    "                validation_data=([valid_x, valid_y, valid_input_len, valid_label_len], valid_output),\n",
    "                epochs=60, batch_size=128)"
   ]
  },
  {
   "cell_type": "code",
   "execution_count": 60,
   "id": "7a83f3ba",
   "metadata": {},
   "outputs": [
    {
     "name": "stdout",
     "output_type": "stream",
     "text": [
      "Model: \"model\"\n",
      "_________________________________________________________________\n",
      " Layer (type)                Output Shape              Param #   \n",
      "=================================================================\n",
      " input (InputLayer)          [(None, 256, 64, 1)]      0         \n",
      "                                                                 \n",
      " conv1 (Conv2D)              (None, 256, 64, 32)       320       \n",
      "                                                                 \n",
      " batch_normalization (BatchN  (None, 256, 64, 32)      128       \n",
      " ormalization)                                                   \n",
      "                                                                 \n",
      " activation (Activation)     (None, 256, 64, 32)       0         \n",
      "                                                                 \n",
      " max1 (MaxPooling2D)         (None, 128, 32, 32)       0         \n",
      "                                                                 \n",
      " conv2 (Conv2D)              (None, 128, 32, 64)       18496     \n",
      "                                                                 \n",
      " batch_normalization_1 (Batc  (None, 128, 32, 64)      256       \n",
      " hNormalization)                                                 \n",
      "                                                                 \n",
      " activation_1 (Activation)   (None, 128, 32, 64)       0         \n",
      "                                                                 \n",
      " max2 (MaxPooling2D)         (None, 64, 16, 64)        0         \n",
      "                                                                 \n",
      " dropout (Dropout)           (None, 64, 16, 64)        0         \n",
      "                                                                 \n",
      " conv3 (Conv2D)              (None, 64, 16, 128)       73856     \n",
      "                                                                 \n",
      " batch_normalization_2 (Batc  (None, 64, 16, 128)      512       \n",
      " hNormalization)                                                 \n",
      "                                                                 \n",
      " activation_2 (Activation)   (None, 64, 16, 128)       0         \n",
      "                                                                 \n",
      " max3 (MaxPooling2D)         (None, 64, 8, 128)        0         \n",
      "                                                                 \n",
      " dropout_1 (Dropout)         (None, 64, 8, 128)        0         \n",
      "                                                                 \n",
      " reshape (Reshape)           (None, 64, 1024)          0         \n",
      "                                                                 \n",
      " dense1 (Dense)              (None, 64, 64)            65600     \n",
      "                                                                 \n",
      " lstm1 (Bidirectional)       (None, 64, 512)           657408    \n",
      "                                                                 \n",
      " lstm2 (Bidirectional)       (None, 64, 512)           1574912   \n",
      "                                                                 \n",
      " dense2 (Dense)              (None, 64, 30)            15390     \n",
      "                                                                 \n",
      " softmax (Activation)        (None, 64, 30)            0         \n",
      "                                                                 \n",
      "=================================================================\n",
      "Total params: 2,406,878\n",
      "Trainable params: 2,406,430\n",
      "Non-trainable params: 448\n",
      "_________________________________________________________________\n",
      "Model: \"model_1\"\n",
      "__________________________________________________________________________________________________\n",
      " Layer (type)                   Output Shape         Param #     Connected to                     \n",
      "==================================================================================================\n",
      " input (InputLayer)             [(None, 256, 64, 1)  0           []                               \n",
      "                                ]                                                                 \n",
      "                                                                                                  \n",
      " conv1 (Conv2D)                 (None, 256, 64, 32)  320         ['input[0][0]']                  \n",
      "                                                                                                  \n",
      " batch_normalization (BatchNorm  (None, 256, 64, 32)  128        ['conv1[0][0]']                  \n",
      " alization)                                                                                       \n",
      "                                                                                                  \n",
      " activation (Activation)        (None, 256, 64, 32)  0           ['batch_normalization[0][0]']    \n",
      "                                                                                                  \n",
      " max1 (MaxPooling2D)            (None, 128, 32, 32)  0           ['activation[0][0]']             \n",
      "                                                                                                  \n",
      " conv2 (Conv2D)                 (None, 128, 32, 64)  18496       ['max1[0][0]']                   \n",
      "                                                                                                  \n",
      " batch_normalization_1 (BatchNo  (None, 128, 32, 64)  256        ['conv2[0][0]']                  \n",
      " rmalization)                                                                                     \n",
      "                                                                                                  \n",
      " activation_1 (Activation)      (None, 128, 32, 64)  0           ['batch_normalization_1[0][0]']  \n",
      "                                                                                                  \n",
      " max2 (MaxPooling2D)            (None, 64, 16, 64)   0           ['activation_1[0][0]']           \n",
      "                                                                                                  \n",
      " dropout (Dropout)              (None, 64, 16, 64)   0           ['max2[0][0]']                   \n",
      "                                                                                                  \n",
      " conv3 (Conv2D)                 (None, 64, 16, 128)  73856       ['dropout[0][0]']                \n",
      "                                                                                                  \n",
      " batch_normalization_2 (BatchNo  (None, 64, 16, 128)  512        ['conv3[0][0]']                  \n",
      " rmalization)                                                                                     \n",
      "                                                                                                  \n",
      " activation_2 (Activation)      (None, 64, 16, 128)  0           ['batch_normalization_2[0][0]']  \n",
      "                                                                                                  \n",
      " max3 (MaxPooling2D)            (None, 64, 8, 128)   0           ['activation_2[0][0]']           \n",
      "                                                                                                  \n",
      " dropout_1 (Dropout)            (None, 64, 8, 128)   0           ['max3[0][0]']                   \n",
      "                                                                                                  \n",
      " reshape (Reshape)              (None, 64, 1024)     0           ['dropout_1[0][0]']              \n",
      "                                                                                                  \n",
      " dense1 (Dense)                 (None, 64, 64)       65600       ['reshape[0][0]']                \n",
      "                                                                                                  \n",
      " lstm1 (Bidirectional)          (None, 64, 512)      657408      ['dense1[0][0]']                 \n",
      "                                                                                                  \n",
      " lstm2 (Bidirectional)          (None, 64, 512)      1574912     ['lstm1[0][0]']                  \n",
      "                                                                                                  \n",
      " dense2 (Dense)                 (None, 64, 30)       15390       ['lstm2[0][0]']                  \n",
      "                                                                                                  \n",
      " softmax (Activation)           (None, 64, 30)       0           ['dense2[0][0]']                 \n",
      "                                                                                                  \n"
     ]
    },
    {
     "name": "stdout",
     "output_type": "stream",
     "text": [
      " gtruth_labels (InputLayer)     [(None, 24)]         0           []                               \n",
      "                                                                                                  \n",
      " input_length (InputLayer)      [(None, 1)]          0           []                               \n",
      "                                                                                                  \n",
      " label_length (InputLayer)      [(None, 1)]          0           []                               \n",
      "                                                                                                  \n",
      " ctc (Lambda)                   (None, 1)            0           ['softmax[0][0]',                \n",
      "                                                                  'gtruth_labels[0][0]',          \n",
      "                                                                  'input_length[0][0]',           \n",
      "                                                                  'label_length[0][0]']           \n",
      "                                                                                                  \n",
      "==================================================================================================\n",
      "Total params: 2,406,878\n",
      "Trainable params: 2,406,430\n",
      "Non-trainable params: 448\n",
      "__________________________________________________________________________________________________\n"
     ]
    }
   ],
   "source": [
    "model.summary()\n",
    "model_final.summary()"
   ]
  },
  {
   "cell_type": "code",
   "execution_count": 61,
   "id": "32cd1457",
   "metadata": {},
   "outputs": [
    {
     "data": {
      "text/plain": [
       "[<keras.engine.input_layer.InputLayer at 0x7f98f0078130>,\n",
       " <keras.layers.convolutional.conv2d.Conv2D at 0x7f98f0078400>,\n",
       " <keras.layers.normalization.batch_normalization.BatchNormalization at 0x7f9869f5ff70>,\n",
       " <keras.layers.core.activation.Activation at 0x7f9a1818fc70>,\n",
       " <keras.layers.pooling.max_pooling2d.MaxPooling2D at 0x7f9869f40370>,\n",
       " <keras.layers.convolutional.conv2d.Conv2D at 0x7f98995e59d0>,\n",
       " <keras.layers.normalization.batch_normalization.BatchNormalization at 0x7f9869efdee0>,\n",
       " <keras.layers.core.activation.Activation at 0x7f9869f3a580>,\n",
       " <keras.layers.pooling.max_pooling2d.MaxPooling2D at 0x7f99e206c6a0>,\n",
       " <keras.layers.regularization.dropout.Dropout at 0x7f9869faa550>,\n",
       " <keras.layers.convolutional.conv2d.Conv2D at 0x7f9a183c9a90>,\n",
       " <keras.layers.normalization.batch_normalization.BatchNormalization at 0x7f9869f61340>,\n",
       " <keras.layers.core.activation.Activation at 0x7f9a183c92e0>,\n",
       " <keras.layers.pooling.max_pooling2d.MaxPooling2D at 0x7f9869f5f910>,\n",
       " <keras.layers.regularization.dropout.Dropout at 0x7f9a183d3eb0>,\n",
       " <keras.layers.reshaping.reshape.Reshape at 0x7f9a183d0040>,\n",
       " <keras.layers.core.dense.Dense at 0x7f9a183dff40>,\n",
       " <keras.layers.rnn.bidirectional.Bidirectional at 0x7f9a1848d760>,\n",
       " <keras.layers.rnn.bidirectional.Bidirectional at 0x7f98998dcc10>,\n",
       " <keras.layers.core.dense.Dense at 0x7f9a183e3a00>,\n",
       " <keras.layers.core.activation.Activation at 0x7f98ab1a0b20>,\n",
       " <keras.engine.input_layer.InputLayer at 0x7f9869f5b280>,\n",
       " <keras.engine.input_layer.InputLayer at 0x7f9869f5b040>,\n",
       " <keras.engine.input_layer.InputLayer at 0x7f9869f616d0>,\n",
       " <keras.layers.core.lambda_layer.Lambda at 0x7f9869f61df0>]"
      ]
     },
     "execution_count": 61,
     "metadata": {},
     "output_type": "execute_result"
    }
   ],
   "source": [
    "model_final.layers"
   ]
  },
  {
   "cell_type": "markdown",
   "id": "e7c2f86b",
   "metadata": {},
   "source": [
    "## Check Model performance on validation set"
   ]
  },
  {
   "cell_type": "code",
   "execution_count": 57,
   "id": "b5d47a2a",
   "metadata": {},
   "outputs": [
    {
     "name": "stdout",
     "output_type": "stream",
     "text": [
      "94/94 [==============================] - 22s 232ms/step\n"
     ]
    }
   ],
   "source": [
    "preds = model.predict(valid_x)\n",
    "decoded = K.get_value(K.ctc_decode(preds, input_length=np.ones(preds.shape[0])*preds.shape[1], \n",
    "                                   greedy=True)[0][0])\n",
    "\n",
    "prediction = []\n",
    "for i in range(valid_size):\n",
    "    prediction.append(num_to_label(decoded[i]))"
   ]
  },
  {
   "cell_type": "code",
   "execution_count": 32,
   "id": "01126b37",
   "metadata": {},
   "outputs": [
    {
     "name": "stdout",
     "output_type": "stream",
     "text": [
      "Correct characters predicted : 82.15%\n",
      "Correct words predicted      : 69.70%\n"
     ]
    }
   ],
   "source": [
    "y_true = valid.loc[0:valid_size, 'IDENTITY']\n",
    "correct_char = 0\n",
    "total_char = 0\n",
    "correct = 0\n",
    "\n",
    "for i in range(valid_size):\n",
    "    pr = prediction[i]\n",
    "    tr = y_true[i]\n",
    "    total_char += len(tr)\n",
    "    \n",
    "    for j in range(min(len(tr), len(pr))):\n",
    "        if tr[j] == pr[j]:\n",
    "            correct_char += 1\n",
    "            \n",
    "    if pr == tr :\n",
    "        correct += 1 \n",
    "    \n",
    "print('Correct characters predicted : %.2f%%' %(correct_char*100/total_char))\n",
    "print('Correct words predicted      : %.2f%%' %(correct*100/valid_size))"
   ]
  },
  {
   "cell_type": "markdown",
   "id": "d568e123",
   "metadata": {},
   "source": [
    "## Predict"
   ]
  },
  {
   "cell_type": "code",
   "execution_count": 55,
   "id": "53d37cb8",
   "metadata": {},
   "outputs": [
    {
     "name": "stdout",
     "output_type": "stream",
     "text": [
      "1/1 [==============================] - 0s 38ms/step\n",
      "1/1 [==============================] - 0s 31ms/step\n",
      "1/1 [==============================] - 0s 30ms/step\n",
      "1/1 [==============================] - 0s 43ms/step\n",
      "1/1 [==============================] - 0s 31ms/step\n",
      "1/1 [==============================] - 0s 29ms/step\n"
     ]
    },
    {
     "data": {
      "image/png": "[encoded data removed]",
      "text/plain": [
       "<Figure size 1080x720 with 6 Axes>"
      ]
     },
     "metadata": {
      "needs_background": "light"
     },
     "output_type": "display_data"
    }
   ],
   "source": [
    "test = pd.read_csv('../images/written_name_test_v2.csv')\n",
    "\n",
    "plt.figure(figsize=(15, 10))\n",
    "for i in range(6):\n",
    "    ax = plt.subplot(2, 3, i+1)\n",
    "    img_dir = '../images/test/' + test.loc[i, 'FILENAME']\n",
    "    image = cv2.imread(img_dir, cv2.IMREAD_GRAYSCALE)\n",
    "    plt.imshow(image, cmap='gray')\n",
    "    \n",
    "    image = preprocess(image)\n",
    "    image = image/255.\n",
    "    pred = model.predict(image.reshape(1, 256, 64, 1))\n",
    "    decoded = K.get_value(K.ctc_decode(pred, input_length=np.ones(pred.shape[0])*pred.shape[1], \n",
    "                                       greedy=True)[0][0])\n",
    "    plt.title(num_to_label(decoded[0]), fontsize=12)\n",
    "    plt.axis('off')\n",
    "    \n",
    "plt.subplots_adjust(wspace=0.2, hspace=-0.8)"
   ]
  },
  {
   "cell_type": "markdown",
   "id": "f505b50e",
   "metadata": {},
   "source": [
    "## Save Model"
   ]
  },
  {
   "cell_type": "code",
   "execution_count": 37,
   "id": "17c21d6a",
   "metadata": {},
   "outputs": [
    {
     "name": "stdout",
     "output_type": "stream",
     "text": [
      "WARNING:tensorflow:Compiled the loaded model, but the compiled metrics have yet to be built. `model.compile_metrics` will be empty until you train or evaluate the model.\n"
     ]
    }
   ],
   "source": [
    "# as a keras file\n",
    "#model.save(\"../assets/handwriting-model-1.h5\")"
   ]
  },
  {
   "cell_type": "code",
   "execution_count": 89,
   "id": "6291a1b5",
   "metadata": {},
   "outputs": [],
   "source": [
    "# load model\n",
    "from keras.models import load_model\n",
    "model2 = load_model('../assets/handwriting-model-1.h5', compile=False)"
   ]
  },
  {
   "cell_type": "markdown",
   "id": "5d4179bd",
   "metadata": {},
   "source": [
    "## Read saved model and predict with it."
   ]
  },
  {
   "cell_type": "code",
   "execution_count": 90,
   "id": "647be039",
   "metadata": {
    "scrolled": true
   },
   "outputs": [
    {
     "name": "stdout",
     "output_type": "stream",
     "text": [
      "1/1 [==============================] - 1s 1s/step\n",
      "1/1 [==============================] - 0s 34ms/step\n",
      "1/1 [==============================] - 0s 29ms/step\n",
      "1/1 [==============================] - 0s 30ms/step\n",
      "1/1 [==============================] - 0s 30ms/step\n",
      "1/1 [==============================] - 0s 31ms/step\n",
      "1/1 [==============================] - 0s 30ms/step\n",
      "1/1 [==============================] - 0s 31ms/step\n",
      "1/1 [==============================] - 0s 30ms/step\n",
      "1/1 [==============================] - 0s 32ms/step\n",
      "1/1 [==============================] - 0s 29ms/step\n",
      "1/1 [==============================] - 0s 29ms/step\n",
      "1/1 [==============================] - 0s 30ms/step\n",
      "1/1 [==============================] - 0s 28ms/step\n",
      "1/1 [==============================] - 0s 31ms/step\n",
      "1/1 [==============================] - 0s 30ms/step\n",
      "1/1 [==============================] - 0s 30ms/step\n",
      "1/1 [==============================] - 0s 29ms/step\n",
      "1/1 [==============================] - 0s 29ms/step\n",
      "1/1 [==============================] - 0s 30ms/step\n"
     ]
    },
    {
     "data": {
      "image/png": "[encoded data removed]",
      "text/plain": [
       "<Figure size 1080x720 with 20 Axes>"
      ]
     },
     "metadata": {
      "needs_background": "light"
     },
     "output_type": "display_data"
    }
   ],
   "source": [
    "test = pd.read_csv('../images/written_name_test_v2.csv')\n",
    "\n",
    "plt.figure(figsize=(15, 10))\n",
    "for i in range(20):\n",
    "    ax = plt.subplot(5, 4, i+1)\n",
    "    img_dir = '../images/test/' + test.loc[i, 'FILENAME']\n",
    "    image = cv2.imread(img_dir, cv2.IMREAD_GRAYSCALE)\n",
    "    plt.imshow(image, cmap='gray')\n",
    "    \n",
    "    image = preprocess(image)\n",
    "    image = image/255.\n",
    "    pred = model2.predict(image.reshape(1, 256, 64, 1))\n",
    "    decoded = K.get_value(K.ctc_decode(pred, input_length=np.ones(pred.shape[0])*pred.shape[1], \n",
    "                                       greedy=True)[0][0])\n",
    "    plt.title(num_to_label(decoded[0]), fontsize=12)\n",
    "    plt.axis('off')\n",
    "    \n",
    "plt.subplots_adjust(wspace=0.2, hspace=-0.8)"
   ]
  },
  {
   "cell_type": "code",
   "execution_count": null,
   "id": "b9082a07",
   "metadata": {},
   "outputs": [],
   "source": []
  }
 ],
 "metadata": {
  "kernelspec": {
   "display_name": "Python 3 (ipykernel)",
   "language": "python",
   "name": "python3"
  },
  "language_info": {
   "codemirror_mode": {
    "name": "ipython",
    "version": 3
   },
   "file_extension": ".py",
   "mimetype": "text/x-python",
   "name": "python",
   "nbconvert_exporter": "python",
   "pygments_lexer": "ipython3",
   "version": "3.9.7"
  }
 },
 "nbformat": 4,
 "nbformat_minor": 5
}
